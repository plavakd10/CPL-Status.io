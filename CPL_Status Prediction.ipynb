{
 "cells": [
  {
   "cell_type": "code",
   "execution_count": 1,
   "metadata": {},
   "outputs": [
    {
     "data": {
      "text/html": [
       "<div>\n",
       "<style scoped>\n",
       "    .dataframe tbody tr th:only-of-type {\n",
       "        vertical-align: middle;\n",
       "    }\n",
       "\n",
       "    .dataframe tbody tr th {\n",
       "        vertical-align: top;\n",
       "    }\n",
       "\n",
       "    .dataframe thead th {\n",
       "        text-align: right;\n",
       "    }\n",
       "</style>\n",
       "<table border=\"1\" class=\"dataframe\">\n",
       "  <thead>\n",
       "    <tr style=\"text-align: right;\">\n",
       "      <th></th>\n",
       "      <th>Loanapp_ID</th>\n",
       "      <th>Sex</th>\n",
       "      <th>Marital_Status</th>\n",
       "      <th>first_name</th>\n",
       "      <th>last_name</th>\n",
       "      <th>email</th>\n",
       "      <th>address</th>\n",
       "      <th>Dependents</th>\n",
       "      <th>Qual_var</th>\n",
       "      <th>SE</th>\n",
       "      <th>App_Income_1</th>\n",
       "      <th>App_Income_2</th>\n",
       "      <th>CPL_Amount</th>\n",
       "      <th>CPL_Term</th>\n",
       "      <th>Credit_His</th>\n",
       "      <th>Prop_Area</th>\n",
       "      <th>INT_ID</th>\n",
       "      <th>Prev_ID</th>\n",
       "      <th>AGT_ID</th>\n",
       "      <th>CPL_Status</th>\n",
       "    </tr>\n",
       "  </thead>\n",
       "  <tbody>\n",
       "    <tr>\n",
       "      <td>0</td>\n",
       "      <td>CPL001002</td>\n",
       "      <td>M</td>\n",
       "      <td>N</td>\n",
       "      <td>Austin</td>\n",
       "      <td>Pennycook</td>\n",
       "      <td>apennycook1@mac.com</td>\n",
       "      <td>007 Miller Road</td>\n",
       "      <td>0</td>\n",
       "      <td>Grad</td>\n",
       "      <td>N</td>\n",
       "      <td>7018.8</td>\n",
       "      <td>0.0</td>\n",
       "      <td>NaN</td>\n",
       "      <td>360.0</td>\n",
       "      <td>1.0</td>\n",
       "      <td>Urban</td>\n",
       "      <td>9694176212</td>\n",
       "      <td>92-247-0058</td>\n",
       "      <td>Mozilla/5.0 (Windows; U; Windows NT 5.1; zh-TW...</td>\n",
       "      <td>Y</td>\n",
       "    </tr>\n",
       "    <tr>\n",
       "      <td>1</td>\n",
       "      <td>CPL001003</td>\n",
       "      <td>M</td>\n",
       "      <td>Y</td>\n",
       "      <td>Mareah</td>\n",
       "      <td>Tomanek</td>\n",
       "      <td>mtomanek2@bloomberg.com</td>\n",
       "      <td>145 Charing Cross Junction</td>\n",
       "      <td>1</td>\n",
       "      <td>Grad</td>\n",
       "      <td>N</td>\n",
       "      <td>5499.6</td>\n",
       "      <td>1809.6</td>\n",
       "      <td>153.6</td>\n",
       "      <td>360.0</td>\n",
       "      <td>1.0</td>\n",
       "      <td>Rural</td>\n",
       "      <td>152387684</td>\n",
       "      <td>36-236-3028</td>\n",
       "      <td>Mozilla/5.0 (Windows NT 5.1; rv:21.0) Gecko/20...</td>\n",
       "      <td>N</td>\n",
       "    </tr>\n",
       "    <tr>\n",
       "      <td>2</td>\n",
       "      <td>CPL001005</td>\n",
       "      <td>M</td>\n",
       "      <td>Y</td>\n",
       "      <td>Myrna</td>\n",
       "      <td>Rosenthaler</td>\n",
       "      <td>mrosenthaler3@dmoz.org</td>\n",
       "      <td>268 Algoma Hill</td>\n",
       "      <td>0</td>\n",
       "      <td>Grad</td>\n",
       "      <td>Y</td>\n",
       "      <td>3600.0</td>\n",
       "      <td>0.0</td>\n",
       "      <td>79.2</td>\n",
       "      <td>360.0</td>\n",
       "      <td>1.0</td>\n",
       "      <td>Urban</td>\n",
       "      <td>6510396556</td>\n",
       "      <td>34-339-0917</td>\n",
       "      <td>Mozilla/5.0 (Windows; U; Windows NT 6.1; cs-CZ...</td>\n",
       "      <td>Y</td>\n",
       "    </tr>\n",
       "    <tr>\n",
       "      <td>3</td>\n",
       "      <td>CPL001006</td>\n",
       "      <td>M</td>\n",
       "      <td>Y</td>\n",
       "      <td>Danyette</td>\n",
       "      <td>Stempe</td>\n",
       "      <td>dstempe4@tumblr.com</td>\n",
       "      <td>571 Stone Corner Park</td>\n",
       "      <td>0</td>\n",
       "      <td>Non Grad</td>\n",
       "      <td>N</td>\n",
       "      <td>3099.6</td>\n",
       "      <td>2829.6</td>\n",
       "      <td>144.0</td>\n",
       "      <td>360.0</td>\n",
       "      <td>1.0</td>\n",
       "      <td>Urban</td>\n",
       "      <td>7141853006</td>\n",
       "      <td>94-098-8902</td>\n",
       "      <td>Mozilla/5.0 (iPhone; U; CPU iPhone OS 4_2_1 li...</td>\n",
       "      <td>Y</td>\n",
       "    </tr>\n",
       "    <tr>\n",
       "      <td>4</td>\n",
       "      <td>CPL001008</td>\n",
       "      <td>M</td>\n",
       "      <td>N</td>\n",
       "      <td>Patten</td>\n",
       "      <td>McCathy</td>\n",
       "      <td>pmccathy5@ted.com</td>\n",
       "      <td>118 Moulton Drive</td>\n",
       "      <td>0</td>\n",
       "      <td>Grad</td>\n",
       "      <td>N</td>\n",
       "      <td>7200.0</td>\n",
       "      <td>0.0</td>\n",
       "      <td>169.2</td>\n",
       "      <td>360.0</td>\n",
       "      <td>1.0</td>\n",
       "      <td>Urban</td>\n",
       "      <td>23293411</td>\n",
       "      <td>38-247-1410</td>\n",
       "      <td>Mozilla/5.0 (Windows NT 6.0; WOW64) AppleWebKi...</td>\n",
       "      <td>Y</td>\n",
       "    </tr>\n",
       "  </tbody>\n",
       "</table>\n",
       "</div>"
      ],
      "text/plain": [
       "  Loanapp_ID Sex Marital_Status first_name    last_name  \\\n",
       "0  CPL001002   M              N     Austin    Pennycook   \n",
       "1  CPL001003   M              Y     Mareah      Tomanek   \n",
       "2  CPL001005   M              Y      Myrna  Rosenthaler   \n",
       "3  CPL001006   M              Y   Danyette       Stempe   \n",
       "4  CPL001008   M              N     Patten      McCathy   \n",
       "\n",
       "                     email                     address Dependents  Qual_var  \\\n",
       "0      apennycook1@mac.com             007 Miller Road          0      Grad   \n",
       "1  mtomanek2@bloomberg.com  145 Charing Cross Junction          1      Grad   \n",
       "2   mrosenthaler3@dmoz.org             268 Algoma Hill          0      Grad   \n",
       "3      dstempe4@tumblr.com       571 Stone Corner Park          0  Non Grad   \n",
       "4        pmccathy5@ted.com           118 Moulton Drive          0      Grad   \n",
       "\n",
       "  SE  App_Income_1  App_Income_2  CPL_Amount  CPL_Term  Credit_His Prop_Area  \\\n",
       "0  N        7018.8           0.0         NaN     360.0         1.0     Urban   \n",
       "1  N        5499.6        1809.6       153.6     360.0         1.0     Rural   \n",
       "2  Y        3600.0           0.0        79.2     360.0         1.0     Urban   \n",
       "3  N        3099.6        2829.6       144.0     360.0         1.0     Urban   \n",
       "4  N        7200.0           0.0       169.2     360.0         1.0     Urban   \n",
       "\n",
       "       INT_ID      Prev_ID                                             AGT_ID  \\\n",
       "0  9694176212  92-247-0058  Mozilla/5.0 (Windows; U; Windows NT 5.1; zh-TW...   \n",
       "1   152387684  36-236-3028  Mozilla/5.0 (Windows NT 5.1; rv:21.0) Gecko/20...   \n",
       "2  6510396556  34-339-0917  Mozilla/5.0 (Windows; U; Windows NT 6.1; cs-CZ...   \n",
       "3  7141853006  94-098-8902  Mozilla/5.0 (iPhone; U; CPU iPhone OS 4_2_1 li...   \n",
       "4    23293411  38-247-1410  Mozilla/5.0 (Windows NT 6.0; WOW64) AppleWebKi...   \n",
       "\n",
       "  CPL_Status  \n",
       "0          Y  \n",
       "1          N  \n",
       "2          Y  \n",
       "3          Y  \n",
       "4          Y  "
      ]
     },
     "execution_count": 1,
     "metadata": {},
     "output_type": "execute_result"
    }
   ],
   "source": [
    "#importing libraries\n",
    "import pandas as pd\n",
    "import numpy as np\n",
    "import seaborn as sns\n",
    "from matplotlib import pyplot as plt\n",
    "\n",
    "from xgboost import XGBClassifier\n",
    "from sklearn.linear_model import LogisticRegression\n",
    "from sklearn.ensemble import RandomForestClassifier\n",
    "from sklearn.tree import DecisionTreeClassifier\n",
    "from sklearn.neighbors import KNeighborsClassifier\n",
    "from sklearn.svm import SVC, LinearSVC\n",
    "\n",
    "\n",
    "#Getting the data\n",
    "train_data_path=(r\"C:\\Users\\PLAVAK\\Desktop\\EI_Analytics\\Train.xlsx\")\n",
    "test_data_path=(r\"C:\\Users\\PLAVAK\\Desktop\\EI_Analytics\\Test.xlsx\")\n",
    "train_data=pd.read_excel(train_data_path)\n",
    "test_data=pd.read_excel(test_data_path)\n",
    "train_data.head()"
   ]
  },
  {
   "cell_type": "code",
   "execution_count": 2,
   "metadata": {},
   "outputs": [
    {
     "name": "stdout",
     "output_type": "stream",
     "text": [
      "<class 'pandas.core.frame.DataFrame'>\n",
      "RangeIndex: 614 entries, 0 to 613\n",
      "Data columns (total 20 columns):\n",
      "Loanapp_ID        614 non-null object\n",
      "Sex               601 non-null object\n",
      "Marital_Status    611 non-null object\n",
      "first_name        614 non-null object\n",
      "last_name         614 non-null object\n",
      "email             614 non-null object\n",
      "address           614 non-null object\n",
      "Dependents        599 non-null object\n",
      "Qual_var          614 non-null object\n",
      "SE                582 non-null object\n",
      "App_Income_1      614 non-null float64\n",
      "App_Income_2      614 non-null float64\n",
      "CPL_Amount        612 non-null float64\n",
      "CPL_Term          600 non-null float64\n",
      "Credit_His        564 non-null float64\n",
      "Prop_Area         614 non-null object\n",
      "INT_ID            614 non-null int64\n",
      "Prev_ID           614 non-null object\n",
      "AGT_ID            614 non-null object\n",
      "CPL_Status        614 non-null object\n",
      "dtypes: float64(5), int64(1), object(14)\n",
      "memory usage: 96.1+ KB\n"
     ]
    }
   ],
   "source": [
    "#As we have obtained the data,let's get more insights of it by performing some basic EDA\n",
    "train_data.info()"
   ]
  },
  {
   "cell_type": "code",
   "execution_count": 3,
   "metadata": {},
   "outputs": [
    {
     "data": {
      "text/html": [
       "<div>\n",
       "<style scoped>\n",
       "    .dataframe tbody tr th:only-of-type {\n",
       "        vertical-align: middle;\n",
       "    }\n",
       "\n",
       "    .dataframe tbody tr th {\n",
       "        vertical-align: top;\n",
       "    }\n",
       "\n",
       "    .dataframe thead th {\n",
       "        text-align: right;\n",
       "    }\n",
       "</style>\n",
       "<table border=\"1\" class=\"dataframe\">\n",
       "  <thead>\n",
       "    <tr style=\"text-align: right;\">\n",
       "      <th></th>\n",
       "      <th>App_Income_1</th>\n",
       "      <th>App_Income_2</th>\n",
       "      <th>CPL_Amount</th>\n",
       "      <th>CPL_Term</th>\n",
       "      <th>Credit_His</th>\n",
       "      <th>INT_ID</th>\n",
       "    </tr>\n",
       "  </thead>\n",
       "  <tbody>\n",
       "    <tr>\n",
       "      <td>count</td>\n",
       "      <td>614.000000</td>\n",
       "      <td>614.000000</td>\n",
       "      <td>612.000000</td>\n",
       "      <td>600.00000</td>\n",
       "      <td>564.000000</td>\n",
       "      <td>6.140000e+02</td>\n",
       "    </tr>\n",
       "    <tr>\n",
       "      <td>mean</td>\n",
       "      <td>6484.151140</td>\n",
       "      <td>1945.494958</td>\n",
       "      <td>175.805882</td>\n",
       "      <td>342.00000</td>\n",
       "      <td>0.842199</td>\n",
       "      <td>5.055666e+09</td>\n",
       "    </tr>\n",
       "    <tr>\n",
       "      <td>std</td>\n",
       "      <td>7330.850008</td>\n",
       "      <td>3511.498043</td>\n",
       "      <td>102.606123</td>\n",
       "      <td>65.12041</td>\n",
       "      <td>0.364878</td>\n",
       "      <td>2.890445e+09</td>\n",
       "    </tr>\n",
       "    <tr>\n",
       "      <td>min</td>\n",
       "      <td>180.000000</td>\n",
       "      <td>0.000000</td>\n",
       "      <td>10.800000</td>\n",
       "      <td>12.00000</td>\n",
       "      <td>0.000000</td>\n",
       "      <td>1.788664e+07</td>\n",
       "    </tr>\n",
       "    <tr>\n",
       "      <td>25%</td>\n",
       "      <td>3453.000000</td>\n",
       "      <td>0.000000</td>\n",
       "      <td>120.000000</td>\n",
       "      <td>360.00000</td>\n",
       "      <td>1.000000</td>\n",
       "      <td>2.561243e+09</td>\n",
       "    </tr>\n",
       "    <tr>\n",
       "      <td>50%</td>\n",
       "      <td>4575.000000</td>\n",
       "      <td>1426.200000</td>\n",
       "      <td>153.600000</td>\n",
       "      <td>360.00000</td>\n",
       "      <td>1.000000</td>\n",
       "      <td>5.244783e+09</td>\n",
       "    </tr>\n",
       "    <tr>\n",
       "      <td>75%</td>\n",
       "      <td>6954.000000</td>\n",
       "      <td>2756.700000</td>\n",
       "      <td>200.700000</td>\n",
       "      <td>360.00000</td>\n",
       "      <td>1.000000</td>\n",
       "      <td>7.495052e+09</td>\n",
       "    </tr>\n",
       "    <tr>\n",
       "      <td>max</td>\n",
       "      <td>97200.000000</td>\n",
       "      <td>50000.400000</td>\n",
       "      <td>840.000000</td>\n",
       "      <td>480.00000</td>\n",
       "      <td>1.000000</td>\n",
       "      <td>9.989158e+09</td>\n",
       "    </tr>\n",
       "  </tbody>\n",
       "</table>\n",
       "</div>"
      ],
      "text/plain": [
       "       App_Income_1  App_Income_2  CPL_Amount   CPL_Term  Credit_His  \\\n",
       "count    614.000000    614.000000  612.000000  600.00000  564.000000   \n",
       "mean    6484.151140   1945.494958  175.805882  342.00000    0.842199   \n",
       "std     7330.850008   3511.498043  102.606123   65.12041    0.364878   \n",
       "min      180.000000      0.000000   10.800000   12.00000    0.000000   \n",
       "25%     3453.000000      0.000000  120.000000  360.00000    1.000000   \n",
       "50%     4575.000000   1426.200000  153.600000  360.00000    1.000000   \n",
       "75%     6954.000000   2756.700000  200.700000  360.00000    1.000000   \n",
       "max    97200.000000  50000.400000  840.000000  480.00000    1.000000   \n",
       "\n",
       "             INT_ID  \n",
       "count  6.140000e+02  \n",
       "mean   5.055666e+09  \n",
       "std    2.890445e+09  \n",
       "min    1.788664e+07  \n",
       "25%    2.561243e+09  \n",
       "50%    5.244783e+09  \n",
       "75%    7.495052e+09  \n",
       "max    9.989158e+09  "
      ]
     },
     "execution_count": 3,
     "metadata": {},
     "output_type": "execute_result"
    }
   ],
   "source": [
    "#We can see there are 614 examples\n",
    "#Number of features = 20(incl the target variable 'CPL_Status')\n",
    "train_data.describe()"
   ]
  },
  {
   "cell_type": "code",
   "execution_count": 4,
   "metadata": {},
   "outputs": [
    {
     "data": {
      "text/html": [
       "<div>\n",
       "<style scoped>\n",
       "    .dataframe tbody tr th:only-of-type {\n",
       "        vertical-align: middle;\n",
       "    }\n",
       "\n",
       "    .dataframe tbody tr th {\n",
       "        vertical-align: top;\n",
       "    }\n",
       "\n",
       "    .dataframe thead th {\n",
       "        text-align: right;\n",
       "    }\n",
       "</style>\n",
       "<table border=\"1\" class=\"dataframe\">\n",
       "  <thead>\n",
       "    <tr style=\"text-align: right;\">\n",
       "      <th></th>\n",
       "      <th>Total Missing</th>\n",
       "      <th>%Missing</th>\n",
       "    </tr>\n",
       "  </thead>\n",
       "  <tbody>\n",
       "    <tr>\n",
       "      <td>Credit_His</td>\n",
       "      <td>50</td>\n",
       "      <td>8.14</td>\n",
       "    </tr>\n",
       "    <tr>\n",
       "      <td>SE</td>\n",
       "      <td>32</td>\n",
       "      <td>5.21</td>\n",
       "    </tr>\n",
       "    <tr>\n",
       "      <td>Dependents</td>\n",
       "      <td>15</td>\n",
       "      <td>2.44</td>\n",
       "    </tr>\n",
       "    <tr>\n",
       "      <td>CPL_Term</td>\n",
       "      <td>14</td>\n",
       "      <td>2.28</td>\n",
       "    </tr>\n",
       "    <tr>\n",
       "      <td>Sex</td>\n",
       "      <td>13</td>\n",
       "      <td>2.12</td>\n",
       "    </tr>\n",
       "    <tr>\n",
       "      <td>Marital_Status</td>\n",
       "      <td>3</td>\n",
       "      <td>0.49</td>\n",
       "    </tr>\n",
       "    <tr>\n",
       "      <td>CPL_Amount</td>\n",
       "      <td>2</td>\n",
       "      <td>0.33</td>\n",
       "    </tr>\n",
       "    <tr>\n",
       "      <td>first_name</td>\n",
       "      <td>0</td>\n",
       "      <td>0.00</td>\n",
       "    </tr>\n",
       "    <tr>\n",
       "      <td>last_name</td>\n",
       "      <td>0</td>\n",
       "      <td>0.00</td>\n",
       "    </tr>\n",
       "    <tr>\n",
       "      <td>email</td>\n",
       "      <td>0</td>\n",
       "      <td>0.00</td>\n",
       "    </tr>\n",
       "    <tr>\n",
       "      <td>address</td>\n",
       "      <td>0</td>\n",
       "      <td>0.00</td>\n",
       "    </tr>\n",
       "    <tr>\n",
       "      <td>CPL_Status</td>\n",
       "      <td>0</td>\n",
       "      <td>0.00</td>\n",
       "    </tr>\n",
       "    <tr>\n",
       "      <td>Qual_var</td>\n",
       "      <td>0</td>\n",
       "      <td>0.00</td>\n",
       "    </tr>\n",
       "    <tr>\n",
       "      <td>AGT_ID</td>\n",
       "      <td>0</td>\n",
       "      <td>0.00</td>\n",
       "    </tr>\n",
       "    <tr>\n",
       "      <td>App_Income_1</td>\n",
       "      <td>0</td>\n",
       "      <td>0.00</td>\n",
       "    </tr>\n",
       "    <tr>\n",
       "      <td>App_Income_2</td>\n",
       "      <td>0</td>\n",
       "      <td>0.00</td>\n",
       "    </tr>\n",
       "    <tr>\n",
       "      <td>Prop_Area</td>\n",
       "      <td>0</td>\n",
       "      <td>0.00</td>\n",
       "    </tr>\n",
       "    <tr>\n",
       "      <td>INT_ID</td>\n",
       "      <td>0</td>\n",
       "      <td>0.00</td>\n",
       "    </tr>\n",
       "    <tr>\n",
       "      <td>Prev_ID</td>\n",
       "      <td>0</td>\n",
       "      <td>0.00</td>\n",
       "    </tr>\n",
       "    <tr>\n",
       "      <td>Loanapp_ID</td>\n",
       "      <td>0</td>\n",
       "      <td>0.00</td>\n",
       "    </tr>\n",
       "  </tbody>\n",
       "</table>\n",
       "</div>"
      ],
      "text/plain": [
       "                Total Missing  %Missing\n",
       "Credit_His                 50      8.14\n",
       "SE                         32      5.21\n",
       "Dependents                 15      2.44\n",
       "CPL_Term                   14      2.28\n",
       "Sex                        13      2.12\n",
       "Marital_Status              3      0.49\n",
       "CPL_Amount                  2      0.33\n",
       "first_name                  0      0.00\n",
       "last_name                   0      0.00\n",
       "email                       0      0.00\n",
       "address                     0      0.00\n",
       "CPL_Status                  0      0.00\n",
       "Qual_var                    0      0.00\n",
       "AGT_ID                      0      0.00\n",
       "App_Income_1                0      0.00\n",
       "App_Income_2                0      0.00\n",
       "Prop_Area                   0      0.00\n",
       "INT_ID                      0      0.00\n",
       "Prev_ID                     0      0.00\n",
       "Loanapp_ID                  0      0.00"
      ]
     },
     "execution_count": 4,
     "metadata": {},
     "output_type": "execute_result"
    }
   ],
   "source": [
    "#Missing values info\n",
    "missing = train_data.isnull().sum().sort_values(ascending=False)\n",
    "missing_percent = train_data.isnull().sum()/train_data.isnull().count()*100\n",
    "sorted_missing_percent = (round(missing_percent, 2)).sort_values(ascending=False)\n",
    "missing_data = pd.concat([missing,sorted_missing_percent],axis=1,keys=['Total Missing', '%Missing'])\n",
    "missing_data.head(20)"
   ]
  },
  {
   "cell_type": "code",
   "execution_count": 5,
   "metadata": {},
   "outputs": [],
   "source": [
    "#We see that 7 features have missing values\n",
    "#As for any missing feature, there isn't a significant percentage(max is 8.14% for Credit History), it's not wise to drop any 'consider worth' column\n",
    "#Everything except 'first_name','last_name','email','address','AGT_ID','INT_ID','Prev_ID','Loanapp_ID'\n",
    "#makes sense to contribute to 'CPL_Status'\n",
    "\n",
    "#converting target variable to numeric form\n",
    "cpl_status = {\"N\": 0, \"Y\": 1}\n",
    "train_data['CPL_Status'] = train_data['CPL_Status'].map(cpl_status)\n",
    "train_data['CPL_Status'] = train_data['CPL_Status'].astype(int)\n"
   ]
  },
  {
   "cell_type": "code",
   "execution_count": 6,
   "metadata": {},
   "outputs": [
    {
     "data": {
      "image/png": "[encoded data removed]",
      "text/plain": [
       "<Figure size 720x360 with 1 Axes>"
      ]
     },
     "metadata": {
      "needs_background": "light"
     },
     "output_type": "display_data"
    }
   ],
   "source": [
    "gender=[]\n",
    "cpl=[]\n",
    "for i in range(len(train_data)):\n",
    "    if train_data.Sex[i]==\"M\" or train_data.Sex[i]==\"F\":\n",
    "        gender.append(train_data.Sex[i])\n",
    "        cpl.append(train_data.CPL_Status[i])\n",
    "df=pd.DataFrame({\"Sex\":gender,\"CPL_Status\":cpl})\n",
    "male_approve=0\n",
    "male_disapprove=0\n",
    "female_approve=0\n",
    "female_disapprove=0\n",
    "\n",
    "for i in range(len(df)):\n",
    "    if df.Sex[i]==\"M\" and df.CPL_Status[i]==1:\n",
    "        male_approve+=1\n",
    "    if df.Sex[i]==\"M\" and df.CPL_Status[i]==0:\n",
    "        male_disapprove+=1\n",
    "    if df.Sex[i]==\"F\" and df.CPL_Status[i]==1:\n",
    "        female_approve+=1\n",
    "    if df.Sex[i]==\"F\" and df.CPL_Status[i]==0:\n",
    "        female_disapprove+=1\n",
    "data = [[male_approve,female_approve],\n",
    "  [male_disapprove,female_disapprove]]\n",
    "plt.figure(figsize=(10,5))\n",
    "X = np.arange(2)\n",
    "plt.bar(X+0.0,data[0], color = 'red', width = 0.25)\n",
    "plt.bar(X+0.25,data[1], color = 'blue', width = 0.25)\n",
    "plt.xticks([0.125,1.125],['Men','Women'],fontsize=13)\n",
    "plt.legend('YN')\n",
    "plt.title('Loan approval status',fontsize=15)\n",
    "plt.show()\n",
    "\n",
    "#we see that number of women applicants present is significantly less compared to men\n",
    "#Also, approx. one-third of applications for CPL seem to be rejected(roughly from the figure)"
   ]
  },
  {
   "cell_type": "code",
   "execution_count": 7,
   "metadata": {},
   "outputs": [
    {
     "data": {
      "text/plain": [
       "Text(0, 0.5, 'CPL Status')"
      ]
     },
     "execution_count": 7,
     "metadata": {},
     "output_type": "execute_result"
    },
    {
     "data": {
      "image/png": "[encoded data removed]",
      "text/plain": [
       "<Figure size 576x360 with 1 Axes>"
      ]
     },
     "metadata": {
      "needs_background": "light"
     },
     "output_type": "display_data"
    }
   ],
   "source": [
    "plt.figure(figsize=(8,5))\n",
    "sns.barplot(x='Marital_Status', y='CPL_Status', data=train_data)\n",
    "plt.xlabel('Marital Status',fontsize=15)\n",
    "plt.ylabel('CPL Status',fontsize=15)\n",
    "\n",
    "#We see that persons who are married tend to have a slightly higher chances of getting loan approved"
   ]
  },
  {
   "cell_type": "code",
   "execution_count": 8,
   "metadata": {},
   "outputs": [
    {
     "data": {
      "text/plain": [
       "array([0, 1, 2, '3+', nan], dtype=object)"
      ]
     },
     "execution_count": 8,
     "metadata": {},
     "output_type": "execute_result"
    }
   ],
   "source": [
    "train_data.Dependents.unique()"
   ]
  },
  {
   "cell_type": "code",
   "execution_count": 9,
   "metadata": {},
   "outputs": [
    {
     "name": "stderr",
     "output_type": "stream",
     "text": [
      "C:\\Users\\PLAVAK\\Anaconda3\\lib\\site-packages\\seaborn\\categorical.py:3666: UserWarning: The `factorplot` function has been renamed to `catplot`. The original name will be removed in a future release. Please update your code. Note that the default `kind` in `factorplot` (`'point'`) has changed `'strip'` in `catplot`.\n",
      "  warnings.warn(msg)\n"
     ]
    },
    {
     "data": {
      "text/plain": [
       "Text(0.5, 6.79999999999999, 'Number of Dependents')"
      ]
     },
     "execution_count": 9,
     "metadata": {},
     "output_type": "execute_result"
    },
    {
     "data": {
      "image/png": "[encoded data removed]",
      "text/plain": [
       "<Figure size 900x360 with 1 Axes>"
      ]
     },
     "metadata": {
      "needs_background": "light"
     },
     "output_type": "display_data"
    }
   ],
   "source": [
    "axes = sns.factorplot('Dependents','CPL_Status',data=train_data, aspect = 2.5, )\n",
    "plt.ylabel('CPL Status',fontsize=15)\n",
    "plt.xlabel('Number of Dependents',fontsize=15)\n",
    "\n",
    "#We infer that persons with number of dependents = 2 tend to have a higher chance of loan approval. \n",
    "#Other dependents cases have a fair enough chance as well"
   ]
  },
  {
   "cell_type": "code",
   "execution_count": 10,
   "metadata": {},
   "outputs": [
    {
     "data": {
      "text/plain": [
       "array(['Grad', 'Non Grad'], dtype=object)"
      ]
     },
     "execution_count": 10,
     "metadata": {},
     "output_type": "execute_result"
    }
   ],
   "source": [
    "train_data.Qual_var.unique()"
   ]
  },
  {
   "cell_type": "code",
   "execution_count": 11,
   "metadata": {},
   "outputs": [
    {
     "data": {
      "text/plain": [
       "Text(0, 0.5, 'CPL Status')"
      ]
     },
     "execution_count": 11,
     "metadata": {},
     "output_type": "execute_result"
    },
    {
     "data": {
      "image/png": "[encoded data removed]",
      "text/plain": [
       "<Figure size 576x360 with 1 Axes>"
      ]
     },
     "metadata": {
      "needs_background": "light"
     },
     "output_type": "display_data"
    }
   ],
   "source": [
    "plt.figure(figsize=(8,5))\n",
    "sns.barplot(x='Qual_var',y='CPL_Status',data=train_data)\n",
    "plt.xlabel('Qualification',fontsize=15)\n",
    "plt.ylabel('CPL Status',fontsize=15)\n",
    "\n",
    "#We see that graduates have a slightly more chance of getting their loan approved that their non-graduate counterparts"
   ]
  },
  {
   "cell_type": "code",
   "execution_count": 12,
   "metadata": {},
   "outputs": [
    {
     "data": {
      "text/plain": [
       "Text(0, 0.5, 'CPL Status')"
      ]
     },
     "execution_count": 12,
     "metadata": {},
     "output_type": "execute_result"
    },
    {
     "data": {
      "image/png": "[encoded data removed]",
      "text/plain": [
       "<Figure size 576x360 with 1 Axes>"
      ]
     },
     "metadata": {
      "needs_background": "light"
     },
     "output_type": "display_data"
    }
   ],
   "source": [
    "plt.figure(figsize=(8,5))\n",
    "sns.barplot(x='Prop_Area',y='CPL_Status',data=train_data)\n",
    "plt.xlabel('Area',fontsize=15)\n",
    "plt.ylabel('CPL Status',fontsize=15)\n",
    "\n",
    "#We see that people living in semi urban regions have a higher tendency to get loan approved"
   ]
  },
  {
   "cell_type": "code",
   "execution_count": 13,
   "metadata": {},
   "outputs": [
    {
     "data": {
      "text/plain": [
       "N    500\n",
       "Y     82\n",
       "Name: SE, dtype: int64"
      ]
     },
     "execution_count": 13,
     "metadata": {},
     "output_type": "execute_result"
    }
   ],
   "source": [
    "train_data['SE'].value_counts()"
   ]
  },
  {
   "cell_type": "code",
   "execution_count": 14,
   "metadata": {},
   "outputs": [
    {
     "data": {
      "text/plain": [
       "Text(0, 0.5, 'CPL Status')"
      ]
     },
     "execution_count": 14,
     "metadata": {},
     "output_type": "execute_result"
    },
    {
     "data": {
      "image/png": "[encoded data removed]",
      "text/plain": [
       "<Figure size 576x360 with 1 Axes>"
      ]
     },
     "metadata": {
      "needs_background": "light"
     },
     "output_type": "display_data"
    }
   ],
   "source": [
    "plt.figure(figsize=(8,5))\n",
    "sns.barplot(x='SE',y='CPL_Status',data=train_data)\n",
    "plt.xlabel('Self Employed',fontsize=15)\n",
    "plt.ylabel('CPL Status',fontsize=15)\n",
    "\n",
    "#Chances of getting a loan in case of Self-Employed status seems unbiased"
   ]
  },
  {
   "cell_type": "code",
   "execution_count": 15,
   "metadata": {},
   "outputs": [
    {
     "data": {
      "text/plain": [
       "1.0    475\n",
       "0.0     89\n",
       "Name: Credit_His, dtype: int64"
      ]
     },
     "execution_count": 15,
     "metadata": {},
     "output_type": "execute_result"
    }
   ],
   "source": [
    "train_data['Credit_His'].value_counts()"
   ]
  },
  {
   "cell_type": "code",
   "execution_count": 16,
   "metadata": {},
   "outputs": [
    {
     "data": {
      "text/plain": [
       "Text(0, 0.5, 'CPL Status')"
      ]
     },
     "execution_count": 16,
     "metadata": {},
     "output_type": "execute_result"
    },
    {
     "data": {
      "image/png": "[encoded data removed]",
      "text/plain": [
       "<Figure size 576x360 with 1 Axes>"
      ]
     },
     "metadata": {
      "needs_background": "light"
     },
     "output_type": "display_data"
    }
   ],
   "source": [
    "plt.figure(figsize=(8,5))\n",
    "sns.barplot(x='Credit_His',y='CPL_Status',data=train_data)\n",
    "plt.xlabel('Credit History',fontsize=15)\n",
    "plt.xticks([0,1],['No','Yes'],fontsize=13)\n",
    "plt.ylabel('CPL Status',fontsize=15)\n",
    "\n",
    "#We can see that a person with no credit history stands with a little chance of loan approval\n",
    "#Persons with credit history have a high probability of getting loan approval"
   ]
  },
  {
   "cell_type": "code",
   "execution_count": 17,
   "metadata": {},
   "outputs": [],
   "source": [
    "#We add a new column 'Loan_by_income' which is the person's loan amount divided by his/her income\n",
    "\n",
    "datasets = [train_data, test_data]\n",
    "for data in datasets:\n",
    "    data['Loan_by_income'] = data['CPL_Amount']/data['App_Income_1']\n",
    "    data['Loan_by_income'] = data['Loan_by_income'].astype(float)\n",
    "    data['Loan_by_income'] = round(data['Loan_by_income'],2)\n",
    "    "
   ]
  },
  {
   "cell_type": "code",
   "execution_count": 18,
   "metadata": {},
   "outputs": [
    {
     "data": {
      "text/html": [
       "<div>\n",
       "<style scoped>\n",
       "    .dataframe tbody tr th:only-of-type {\n",
       "        vertical-align: middle;\n",
       "    }\n",
       "\n",
       "    .dataframe tbody tr th {\n",
       "        vertical-align: top;\n",
       "    }\n",
       "\n",
       "    .dataframe thead th {\n",
       "        text-align: right;\n",
       "    }\n",
       "</style>\n",
       "<table border=\"1\" class=\"dataframe\">\n",
       "  <thead>\n",
       "    <tr style=\"text-align: right;\">\n",
       "      <th></th>\n",
       "      <th>App_Income_1</th>\n",
       "      <th>App_Income_2</th>\n",
       "      <th>CPL_Amount</th>\n",
       "      <th>CPL_Term</th>\n",
       "      <th>Credit_His</th>\n",
       "      <th>INT_ID</th>\n",
       "      <th>CPL_Status</th>\n",
       "      <th>Loan_by_income</th>\n",
       "    </tr>\n",
       "  </thead>\n",
       "  <tbody>\n",
       "    <tr>\n",
       "      <td>count</td>\n",
       "      <td>614.000000</td>\n",
       "      <td>614.000000</td>\n",
       "      <td>612.000000</td>\n",
       "      <td>600.00000</td>\n",
       "      <td>564.000000</td>\n",
       "      <td>6.140000e+02</td>\n",
       "      <td>614.000000</td>\n",
       "      <td>612.000000</td>\n",
       "    </tr>\n",
       "    <tr>\n",
       "      <td>mean</td>\n",
       "      <td>6484.151140</td>\n",
       "      <td>1945.494958</td>\n",
       "      <td>175.805882</td>\n",
       "      <td>342.00000</td>\n",
       "      <td>0.842199</td>\n",
       "      <td>5.055666e+09</td>\n",
       "      <td>0.687296</td>\n",
       "      <td>0.043758</td>\n",
       "    </tr>\n",
       "    <tr>\n",
       "      <td>std</td>\n",
       "      <td>7330.850008</td>\n",
       "      <td>3511.498043</td>\n",
       "      <td>102.606123</td>\n",
       "      <td>65.12041</td>\n",
       "      <td>0.364878</td>\n",
       "      <td>2.890445e+09</td>\n",
       "      <td>0.463973</td>\n",
       "      <td>0.068371</td>\n",
       "    </tr>\n",
       "    <tr>\n",
       "      <td>min</td>\n",
       "      <td>180.000000</td>\n",
       "      <td>0.000000</td>\n",
       "      <td>10.800000</td>\n",
       "      <td>12.00000</td>\n",
       "      <td>0.000000</td>\n",
       "      <td>1.788664e+07</td>\n",
       "      <td>0.000000</td>\n",
       "      <td>0.000000</td>\n",
       "    </tr>\n",
       "    <tr>\n",
       "      <td>25%</td>\n",
       "      <td>3453.000000</td>\n",
       "      <td>0.000000</td>\n",
       "      <td>120.000000</td>\n",
       "      <td>360.00000</td>\n",
       "      <td>1.000000</td>\n",
       "      <td>2.561243e+09</td>\n",
       "      <td>0.000000</td>\n",
       "      <td>0.020000</td>\n",
       "    </tr>\n",
       "    <tr>\n",
       "      <td>50%</td>\n",
       "      <td>4575.000000</td>\n",
       "      <td>1426.200000</td>\n",
       "      <td>153.600000</td>\n",
       "      <td>360.00000</td>\n",
       "      <td>1.000000</td>\n",
       "      <td>5.244783e+09</td>\n",
       "      <td>1.000000</td>\n",
       "      <td>0.030000</td>\n",
       "    </tr>\n",
       "    <tr>\n",
       "      <td>75%</td>\n",
       "      <td>6954.000000</td>\n",
       "      <td>2756.700000</td>\n",
       "      <td>200.700000</td>\n",
       "      <td>360.00000</td>\n",
       "      <td>1.000000</td>\n",
       "      <td>7.495052e+09</td>\n",
       "      <td>1.000000</td>\n",
       "      <td>0.050000</td>\n",
       "    </tr>\n",
       "    <tr>\n",
       "      <td>max</td>\n",
       "      <td>97200.000000</td>\n",
       "      <td>50000.400000</td>\n",
       "      <td>840.000000</td>\n",
       "      <td>480.00000</td>\n",
       "      <td>1.000000</td>\n",
       "      <td>9.989158e+09</td>\n",
       "      <td>1.000000</td>\n",
       "      <td>1.130000</td>\n",
       "    </tr>\n",
       "  </tbody>\n",
       "</table>\n",
       "</div>"
      ],
      "text/plain": [
       "       App_Income_1  App_Income_2  CPL_Amount   CPL_Term  Credit_His  \\\n",
       "count    614.000000    614.000000  612.000000  600.00000  564.000000   \n",
       "mean    6484.151140   1945.494958  175.805882  342.00000    0.842199   \n",
       "std     7330.850008   3511.498043  102.606123   65.12041    0.364878   \n",
       "min      180.000000      0.000000   10.800000   12.00000    0.000000   \n",
       "25%     3453.000000      0.000000  120.000000  360.00000    1.000000   \n",
       "50%     4575.000000   1426.200000  153.600000  360.00000    1.000000   \n",
       "75%     6954.000000   2756.700000  200.700000  360.00000    1.000000   \n",
       "max    97200.000000  50000.400000  840.000000  480.00000    1.000000   \n",
       "\n",
       "             INT_ID  CPL_Status  Loan_by_income  \n",
       "count  6.140000e+02  614.000000      612.000000  \n",
       "mean   5.055666e+09    0.687296        0.043758  \n",
       "std    2.890445e+09    0.463973        0.068371  \n",
       "min    1.788664e+07    0.000000        0.000000  \n",
       "25%    2.561243e+09    0.000000        0.020000  \n",
       "50%    5.244783e+09    1.000000        0.030000  \n",
       "75%    7.495052e+09    1.000000        0.050000  \n",
       "max    9.989158e+09    1.000000        1.130000  "
      ]
     },
     "execution_count": 18,
     "metadata": {},
     "output_type": "execute_result"
    }
   ],
   "source": [
    "train_data.describe()\n",
    "#We see that the maximum value of 'Loan_by_income' is 1.13 and minimum is 0."
   ]
  },
  {
   "cell_type": "code",
   "execution_count": 19,
   "metadata": {},
   "outputs": [
    {
     "data": {
      "image/png": "[encoded data removed]",
      "text/plain": [
       "<Figure size 720x288 with 2 Axes>"
      ]
     },
     "metadata": {
      "needs_background": "light"
     },
     "output_type": "display_data"
    }
   ],
   "source": [
    "fig, axes = plt.subplots(nrows=1, ncols=2,figsize=(10, 4))\n",
    "women = train_data[train_data['Sex']=='F']\n",
    "men = train_data[train_data['Sex']=='M']\n",
    "ax = sns.distplot(women[women['CPL_Status']==1].Loan_by_income.dropna(),bins=18,label = 'Approved', ax = axes[0], kde =False)\n",
    "ax = sns.distplot(women[women['CPL_Status']==0].Loan_by_income.dropna(),bins=30,label = 'Not Approved', ax = axes[0], kde =False)\n",
    "ax.legend()\n",
    "ax.set_title('Female')\n",
    "ax = sns.distplot(men[men['CPL_Status']==1].Loan_by_income.dropna(),bins=18,label = 'Approved', ax = axes[1], kde = False)\n",
    "ax = sns.distplot(men[men['CPL_Status']==0].Loan_by_income.dropna(),bins=40,label = 'Not Approved', ax = axes[1], kde = False)\n",
    "ax.legend()\n",
    "_ = ax.set_title('Male')\n",
    "\n",
    "\n",
    "#We infer that most of the data for 'Loan_by_income' lie within 0.2. \n",
    "#For males and females both, 'Loan_by_income' with value less than 0.1 tends to have a higher chance of loan approval"
   ]
  },
  {
   "cell_type": "code",
   "execution_count": 20,
   "metadata": {},
   "outputs": [
    {
     "data": {
      "text/plain": [
       "360.0    512\n",
       "180.0     44\n",
       "480.0     15\n",
       "300.0     13\n",
       "84.0       4\n",
       "240.0      4\n",
       "120.0      3\n",
       "36.0       2\n",
       "60.0       2\n",
       "12.0       1\n",
       "Name: CPL_Term, dtype: int64"
      ]
     },
     "execution_count": 20,
     "metadata": {},
     "output_type": "execute_result"
    }
   ],
   "source": [
    "train_data['CPL_Term'].value_counts()"
   ]
  },
  {
   "cell_type": "code",
   "execution_count": 21,
   "metadata": {},
   "outputs": [
    {
     "data": {
      "text/plain": [
       "Text(0, 0.5, 'CPL Status')"
      ]
     },
     "execution_count": 21,
     "metadata": {},
     "output_type": "execute_result"
    },
    {
     "data": {
      "image/png": "[encoded data removed]",
      "text/plain": [
       "<Figure size 576x360 with 1 Axes>"
      ]
     },
     "metadata": {
      "needs_background": "light"
     },
     "output_type": "display_data"
    }
   ],
   "source": [
    "plt.figure(figsize=(8,5))\n",
    "sns.barplot(x='CPL_Term',y='CPL_Status',data=train_data)\n",
    "plt.xlabel('CPL Term(Days)',fontsize=15)\n",
    "plt.ylabel('CPL Status',fontsize=15)"
   ]
  },
  {
   "cell_type": "code",
   "execution_count": 22,
   "metadata": {},
   "outputs": [],
   "source": [
    "train_data_2=train_data.copy()\n",
    "datasets=[train_data_2]\n",
    "for data in datasets:\n",
    "    data.loc[data['App_Income_2']>0,'Income_2'] = 1\n",
    "    data.loc[data['App_Income_2']==0,'Income_2'] = 0\n",
    "    data['Income_2']=data['Income_2'].astype(int)"
   ]
  },
  {
   "cell_type": "code",
   "execution_count": 23,
   "metadata": {},
   "outputs": [
    {
     "data": {
      "text/plain": [
       "Text(0.5, 1.0, 'Income 2 and CPL Status')"
      ]
     },
     "execution_count": 23,
     "metadata": {},
     "output_type": "execute_result"
    },
    {
     "data": {
      "image/png": "[encoded data removed]",
      "text/plain": [
       "<Figure size 576x360 with 1 Axes>"
      ]
     },
     "metadata": {
      "needs_background": "light"
     },
     "output_type": "display_data"
    }
   ],
   "source": [
    "plt.figure(figsize=(8,5))\n",
    "sns.barplot(x='Income_2',y='CPL_Status',data=train_data_2)\n",
    "plt.xlabel('Applicant Income 2 ( 0 = No, 1 = Yes)',fontsize=15)\n",
    "plt.ylabel('CPL Status',fontsize=15)\n",
    "plt.title(\"Income 2 and CPL Status\")\n",
    "\n",
    "\n",
    "#We see that applicants having another person's income taken into consideration has a higher chance of getting loan approval"
   ]
  },
  {
   "cell_type": "code",
   "execution_count": 24,
   "metadata": {},
   "outputs": [],
   "source": [
    "#Now we need to deal with missing values\n",
    "\n",
    "#Summary of missing values:\n",
    "#Credit_His = 50\n",
    "#SE = 32\n",
    "#Dependents = 15\n",
    "#CPL_Term = 14\n",
    "#Sex = 13\n",
    "#Marital_Status = 3\n",
    "#CPL_Amount = 2"
   ]
  },
  {
   "cell_type": "code",
   "execution_count": 25,
   "metadata": {},
   "outputs": [],
   "source": [
    "#We observed that there are 512 entries for 'CPL_Term' with value 360\n",
    "#So we can fill the missing 14 values with the mode,i.e 360\n",
    "mode=360\n",
    "datasets=[train_data,test_data]\n",
    "for data in datasets:\n",
    "    data['CPL_Term'] = data['CPL_Term'].fillna(mode)"
   ]
  },
  {
   "cell_type": "code",
   "execution_count": 26,
   "metadata": {},
   "outputs": [],
   "source": [
    "#For the two missing values of 'CPL_Amount' we can use the mean value to fill them\n",
    "\n",
    "mean_val = round(train_data.CPL_Amount.mean(),1)\n",
    "for data in datasets:\n",
    "    data['CPL_Amount'] = data['CPL_Amount'].fillna(mean_val)\n",
    "    data['CPL_Amount'] = data['CPL_Amount'].astype(float)"
   ]
  },
  {
   "cell_type": "code",
   "execution_count": 27,
   "metadata": {},
   "outputs": [
    {
     "data": {
      "text/plain": [
       "Y    398\n",
       "N    213\n",
       "Name: Marital_Status, dtype: int64"
      ]
     },
     "execution_count": 27,
     "metadata": {},
     "output_type": "execute_result"
    }
   ],
   "source": [
    "train_data['Marital_Status'].value_counts()"
   ]
  },
  {
   "cell_type": "code",
   "execution_count": 28,
   "metadata": {},
   "outputs": [],
   "source": [
    "#We also fill the missing values for 'Marital_Status' with the mode,i.e Y\n",
    "mode=\"Y\"\n",
    "for data in datasets:\n",
    "    data['Marital_Status'] = data['Marital_Status'].fillna(mode)\n",
    "    "
   ]
  },
  {
   "cell_type": "code",
   "execution_count": 29,
   "metadata": {},
   "outputs": [
    {
     "data": {
      "text/plain": [
       "['Crosby',\n",
       " 'Heall',\n",
       " 'Ludovico',\n",
       " 'Rudie',\n",
       " 'Conant',\n",
       " 'Byrom',\n",
       " 'Sarine',\n",
       " 'Cyrillus',\n",
       " 'Vina',\n",
       " 'Wendell',\n",
       " 'Robby',\n",
       " 'Clemmie',\n",
       " 'Francesca']"
      ]
     },
     "execution_count": 29,
     "metadata": {},
     "output_type": "execute_result"
    }
   ],
   "source": [
    "names=[]\n",
    "for i in range(len(train_data)):\n",
    "    if train_data.Sex[i]!=\"M\" and train_data.Sex[i]!=\"F\":\n",
    "        names.append(train_data.first_name[i])\n",
    "names        \n",
    "        "
   ]
  },
  {
   "cell_type": "code",
   "execution_count": 30,
   "metadata": {},
   "outputs": [
    {
     "name": "stderr",
     "output_type": "stream",
     "text": [
      "C:\\Users\\PLAVAK\\Anaconda3\\lib\\site-packages\\ipykernel_launcher.py:14: SettingWithCopyWarning: \n",
      "A value is trying to be set on a copy of a slice from a DataFrame\n",
      "\n",
      "See the caveats in the documentation: http://pandas.pydata.org/pandas-docs/stable/user_guide/indexing.html#returning-a-view-versus-a-copy\n",
      "  \n"
     ]
    }
   ],
   "source": [
    "#For filling the missing values in 'Sex' column, we can refer\n",
    "#https://www.gpeters.com/names/baby-names.php?\n",
    "#which is a website to guess gender by names\n",
    "\n",
    "#The following results were obtained:\n",
    "#Crosby,Ludovico,Rudie,Conant,Byrom,Wendell and Robby were classified as male\n",
    "#Sarine,Vina,Clemmie,Francesca were classified as female\n",
    "#Heall couldn't be classified(so we assume it as a mode value,i.e male)\n",
    "\n",
    "gender=['M','M','M','M','M','M','F','M','F','M','M','F','F']\n",
    "j=0\n",
    "for i in range(len(train_data)):\n",
    "    if train_data.Sex[i]!=\"M\" and train_data.Sex[i]!=\"F\":\n",
    "        train_data.Sex[i]=gender[j]\n",
    "        j+=1"
   ]
  },
  {
   "cell_type": "code",
   "execution_count": 31,
   "metadata": {},
   "outputs": [
    {
     "data": {
      "text/plain": [
       "['Karmen',\n",
       " 'Kareem',\n",
       " 'Benjy',\n",
       " 'Donnell',\n",
       " 'Melina',\n",
       " 'Michelina',\n",
       " 'Kayle',\n",
       " 'Rani',\n",
       " 'Montague',\n",
       " 'Ferris',\n",
       " 'Berni']"
      ]
     },
     "execution_count": 31,
     "metadata": {},
     "output_type": "execute_result"
    }
   ],
   "source": [
    "#Repeating the same process for test data\n",
    "names=[]\n",
    "for i in range(len(test_data)):\n",
    "    if test_data.Sex[i]!=\"M\" and test_data.Sex[i]!=\"F\":\n",
    "        names.append(test_data.first_name[i])\n",
    "names        "
   ]
  },
  {
   "cell_type": "code",
   "execution_count": 32,
   "metadata": {},
   "outputs": [
    {
     "name": "stderr",
     "output_type": "stream",
     "text": [
      "C:\\Users\\PLAVAK\\Anaconda3\\lib\\site-packages\\ipykernel_launcher.py:5: SettingWithCopyWarning: \n",
      "A value is trying to be set on a copy of a slice from a DataFrame\n",
      "\n",
      "See the caveats in the documentation: http://pandas.pydata.org/pandas-docs/stable/user_guide/indexing.html#returning-a-view-versus-a-copy\n",
      "  \"\"\"\n"
     ]
    }
   ],
   "source": [
    "gender=['F','M','F','M','F','F','F','F','M','M','M']\n",
    "j=0\n",
    "for i in range(len(test_data)):\n",
    "    if test_data.Sex[i]!=\"M\" and test_data.Sex[i]!=\"F\":\n",
    "        test_data.Sex[i]=gender[j]\n",
    "        j+=1"
   ]
  },
  {
   "cell_type": "code",
   "execution_count": 33,
   "metadata": {},
   "outputs": [
    {
     "data": {
      "text/plain": [
       "N    500\n",
       "Y     82\n",
       "Name: SE, dtype: int64"
      ]
     },
     "execution_count": 33,
     "metadata": {},
     "output_type": "execute_result"
    }
   ],
   "source": [
    "train_data['SE'].value_counts()"
   ]
  },
  {
   "cell_type": "code",
   "execution_count": 34,
   "metadata": {},
   "outputs": [
    {
     "name": "stderr",
     "output_type": "stream",
     "text": [
      "C:\\Users\\PLAVAK\\Anaconda3\\lib\\site-packages\\ipykernel_launcher.py:13: SettingWithCopyWarning: \n",
      "A value is trying to be set on a copy of a slice from a DataFrame\n",
      "\n",
      "See the caveats in the documentation: http://pandas.pydata.org/pandas-docs/stable/user_guide/indexing.html#returning-a-view-versus-a-copy\n",
      "  del sys.path[0]\n",
      "C:\\Users\\PLAVAK\\Anaconda3\\lib\\site-packages\\ipykernel_launcher.py:15: SettingWithCopyWarning: \n",
      "A value is trying to be set on a copy of a slice from a DataFrame\n",
      "\n",
      "See the caveats in the documentation: http://pandas.pydata.org/pandas-docs/stable/user_guide/indexing.html#returning-a-view-versus-a-copy\n",
      "  from ipykernel import kernelapp as app\n"
     ]
    }
   ],
   "source": [
    "#We see that there are 32 missing values in 'SE' column\n",
    "#Also,500 have value \"N\" and 82 have value \"Y\"\n",
    "#So, 86% of the non-missing values are \"N\" and rest 14% are \"Y\"\n",
    "#What we can do is, generate random numbers b/w 1 to 100 and each time we get more than 86\n",
    "#we can fill the missing value with \"Y\" and if less than 86,\n",
    "#we can fill the missing value with \"N\",each time we iterate along the missing values.\n",
    "#(Basically a weighted random)\n",
    "\n",
    "import random\n",
    "for i in range(len(train_data)):\n",
    "    if train_data.SE[i]!=\"Y\" and train_data.SE[i]!=\"N\":\n",
    "        if random.randint(1,100) > 86:\n",
    "            train_data.SE[i] = \"Y\"\n",
    "        else:\n",
    "            train_data.SE[i] = \"N\""
   ]
  },
  {
   "cell_type": "code",
   "execution_count": 35,
   "metadata": {},
   "outputs": [
    {
     "name": "stderr",
     "output_type": "stream",
     "text": [
      "C:\\Users\\PLAVAK\\Anaconda3\\lib\\site-packages\\ipykernel_launcher.py:8: SettingWithCopyWarning: \n",
      "A value is trying to be set on a copy of a slice from a DataFrame\n",
      "\n",
      "See the caveats in the documentation: http://pandas.pydata.org/pandas-docs/stable/user_guide/indexing.html#returning-a-view-versus-a-copy\n",
      "  \n",
      "C:\\Users\\PLAVAK\\Anaconda3\\lib\\site-packages\\ipykernel_launcher.py:6: SettingWithCopyWarning: \n",
      "A value is trying to be set on a copy of a slice from a DataFrame\n",
      "\n",
      "See the caveats in the documentation: http://pandas.pydata.org/pandas-docs/stable/user_guide/indexing.html#returning-a-view-versus-a-copy\n",
      "  \n"
     ]
    }
   ],
   "source": [
    "#Applying same for test data\n",
    "\n",
    "for i in range(len(test_data)):\n",
    "    if test_data.SE[i]!=\"Y\" and test_data.SE[i]!=\"N\":\n",
    "        if random.randint(1,100) > 86:\n",
    "            test_data.SE[i] = \"Y\"\n",
    "        else:\n",
    "            test_data.SE[i] = \"N\""
   ]
  },
  {
   "cell_type": "code",
   "execution_count": 36,
   "metadata": {},
   "outputs": [
    {
     "data": {
      "text/plain": [
       "0     345\n",
       "1     102\n",
       "2     101\n",
       "3+     51\n",
       "Name: Dependents, dtype: int64"
      ]
     },
     "execution_count": 36,
     "metadata": {},
     "output_type": "execute_result"
    }
   ],
   "source": [
    "train_data['Dependents'].value_counts()"
   ]
  },
  {
   "cell_type": "code",
   "execution_count": 37,
   "metadata": {},
   "outputs": [
    {
     "name": "stderr",
     "output_type": "stream",
     "text": [
      "C:\\Users\\PLAVAK\\Anaconda3\\lib\\site-packages\\ipykernel_launcher.py:11: SettingWithCopyWarning: \n",
      "A value is trying to be set on a copy of a slice from a DataFrame\n",
      "\n",
      "See the caveats in the documentation: http://pandas.pydata.org/pandas-docs/stable/user_guide/indexing.html#returning-a-view-versus-a-copy\n",
      "  # This is added back by InteractiveShellApp.init_path()\n",
      "C:\\Users\\PLAVAK\\Anaconda3\\lib\\site-packages\\ipykernel_launcher.py:17: SettingWithCopyWarning: \n",
      "A value is trying to be set on a copy of a slice from a DataFrame\n",
      "\n",
      "See the caveats in the documentation: http://pandas.pydata.org/pandas-docs/stable/user_guide/indexing.html#returning-a-view-versus-a-copy\n",
      "C:\\Users\\PLAVAK\\Anaconda3\\lib\\site-packages\\ipykernel_launcher.py:13: SettingWithCopyWarning: \n",
      "A value is trying to be set on a copy of a slice from a DataFrame\n",
      "\n",
      "See the caveats in the documentation: http://pandas.pydata.org/pandas-docs/stable/user_guide/indexing.html#returning-a-view-versus-a-copy\n",
      "  del sys.path[0]\n",
      "C:\\Users\\PLAVAK\\Anaconda3\\lib\\site-packages\\ipykernel_launcher.py:22: SettingWithCopyWarning: \n",
      "A value is trying to be set on a copy of a slice from a DataFrame\n",
      "\n",
      "See the caveats in the documentation: http://pandas.pydata.org/pandas-docs/stable/user_guide/indexing.html#returning-a-view-versus-a-copy\n",
      "C:\\Users\\PLAVAK\\Anaconda3\\lib\\site-packages\\ipykernel_launcher.py:24: SettingWithCopyWarning: \n",
      "A value is trying to be set on a copy of a slice from a DataFrame\n",
      "\n",
      "See the caveats in the documentation: http://pandas.pydata.org/pandas-docs/stable/user_guide/indexing.html#returning-a-view-versus-a-copy\n",
      "C:\\Users\\PLAVAK\\Anaconda3\\lib\\site-packages\\ipykernel_launcher.py:26: SettingWithCopyWarning: \n",
      "A value is trying to be set on a copy of a slice from a DataFrame\n",
      "\n",
      "See the caveats in the documentation: http://pandas.pydata.org/pandas-docs/stable/user_guide/indexing.html#returning-a-view-versus-a-copy\n"
     ]
    }
   ],
   "source": [
    "#Again for applying same weighted random theory,\n",
    "#we obtain\n",
    "#0:57%\n",
    "#1:17%\n",
    "#2:17%\n",
    "#3+:9%\n",
    "for i in range(len(train_data)):\n",
    "    if train_data.Dependents[i] not in [0,1,2,\"3+\"]:\n",
    "        x = random.randint(1,100)\n",
    "        if x>=1 and x<57:\n",
    "            train_data.Dependents[i] = 0\n",
    "        if x>=57 and x<74:\n",
    "            train_data.Dependents[i] = 1\n",
    "        if x>74 and x<91:\n",
    "            train_data.Dependents[i] = 2\n",
    "        if x>=91 and x<100:\n",
    "            train_data.Dependents[i] = \"3+\"    \n",
    "for i in range(len(test_data)):\n",
    "    if test_data.Dependents[i] not in [0,1,2,\"3+\"]:\n",
    "        x = random.randint(1,100)\n",
    "        if x>=1 and x<57:\n",
    "            test_data.Dependents[i] = 0\n",
    "        if x>=57 and x<74:\n",
    "            test_data.Dependents[i] = 1\n",
    "        if x>74 and x<91:\n",
    "            test_data.Dependents[i] = 2\n",
    "        if x>=91 and x<100:\n",
    "            test_data.Dependents[i] = \"3+\"             "
   ]
  },
  {
   "cell_type": "code",
   "execution_count": 38,
   "metadata": {},
   "outputs": [
    {
     "data": {
      "text/plain": [
       "1.0    475\n",
       "0.0     89\n",
       "Name: Credit_His, dtype: int64"
      ]
     },
     "execution_count": 38,
     "metadata": {},
     "output_type": "execute_result"
    }
   ],
   "source": [
    "train_data['Credit_His'].value_counts()"
   ]
  },
  {
   "cell_type": "code",
   "execution_count": 39,
   "metadata": {},
   "outputs": [
    {
     "name": "stderr",
     "output_type": "stream",
     "text": [
      "C:\\Users\\PLAVAK\\Anaconda3\\lib\\site-packages\\ipykernel_launcher.py:7: SettingWithCopyWarning: \n",
      "A value is trying to be set on a copy of a slice from a DataFrame\n",
      "\n",
      "See the caveats in the documentation: http://pandas.pydata.org/pandas-docs/stable/user_guide/indexing.html#returning-a-view-versus-a-copy\n",
      "  import sys\n",
      "C:\\Users\\PLAVAK\\Anaconda3\\lib\\site-packages\\pandas\\core\\indexing.py:205: SettingWithCopyWarning: \n",
      "A value is trying to be set on a copy of a slice from a DataFrame\n",
      "\n",
      "See the caveats in the documentation: http://pandas.pydata.org/pandas-docs/stable/user_guide/indexing.html#returning-a-view-versus-a-copy\n",
      "  self._setitem_with_indexer(indexer, value)\n",
      "C:\\Users\\PLAVAK\\Anaconda3\\lib\\site-packages\\ipykernel_launcher.py:5: SettingWithCopyWarning: \n",
      "A value is trying to be set on a copy of a slice from a DataFrame\n",
      "\n",
      "See the caveats in the documentation: http://pandas.pydata.org/pandas-docs/stable/user_guide/indexing.html#returning-a-view-versus-a-copy\n",
      "  \"\"\"\n",
      "C:\\Users\\PLAVAK\\Anaconda3\\lib\\site-packages\\ipykernel_launcher.py:14: SettingWithCopyWarning: \n",
      "A value is trying to be set on a copy of a slice from a DataFrame\n",
      "\n",
      "See the caveats in the documentation: http://pandas.pydata.org/pandas-docs/stable/user_guide/indexing.html#returning-a-view-versus-a-copy\n",
      "  \n",
      "C:\\Users\\PLAVAK\\Anaconda3\\lib\\site-packages\\ipykernel_launcher.py:12: SettingWithCopyWarning: \n",
      "A value is trying to be set on a copy of a slice from a DataFrame\n",
      "\n",
      "See the caveats in the documentation: http://pandas.pydata.org/pandas-docs/stable/user_guide/indexing.html#returning-a-view-versus-a-copy\n",
      "  if sys.path[0] == '':\n"
     ]
    }
   ],
   "source": [
    "#Filling values for 'Credit_His' using weighted random\n",
    "for i in range(len(train_data)):\n",
    "    if train_data.Credit_His[i] not in [1.0,0.0]:\n",
    "        if random.randint(1,100) > 84:\n",
    "            train_data.Credit_His[i] = \"Y\"\n",
    "        else:\n",
    "            train_data.Credit_His[i] = \"N\"\n",
    "                        \n",
    "for i in range(len(test_data)):\n",
    "    if test_data.Credit_His[i] not in [0.0,1.0]:\n",
    "        if random.randint(1,100) > 84:\n",
    "            test_data.Credit_His[i] = \"Y\"\n",
    "        else:\n",
    "            test_data.Credit_His[i] = \"N\"                "
   ]
  },
  {
   "cell_type": "code",
   "execution_count": 40,
   "metadata": {},
   "outputs": [],
   "source": [
    "datasets=[train_data,test_data]\n",
    "for data in datasets:\n",
    "    data['Loan_by_income'] = data['CPL_Amount']/data['App_Income_1']\n",
    "    data['Loan_by_income'] = data['Loan_by_income'].astype(float)\n",
    "    data['Loan_by_income'] = round(data['Loan_by_income'],2)"
   ]
  },
  {
   "cell_type": "code",
   "execution_count": 41,
   "metadata": {},
   "outputs": [
    {
     "name": "stdout",
     "output_type": "stream",
     "text": [
      "<class 'pandas.core.frame.DataFrame'>\n",
      "RangeIndex: 614 entries, 0 to 613\n",
      "Data columns (total 21 columns):\n",
      "Loanapp_ID        614 non-null object\n",
      "Sex               614 non-null object\n",
      "Marital_Status    614 non-null object\n",
      "first_name        614 non-null object\n",
      "last_name         614 non-null object\n",
      "email             614 non-null object\n",
      "address           614 non-null object\n",
      "Dependents        614 non-null object\n",
      "Qual_var          614 non-null object\n",
      "SE                614 non-null object\n",
      "App_Income_1      614 non-null float64\n",
      "App_Income_2      614 non-null float64\n",
      "CPL_Amount        614 non-null float64\n",
      "CPL_Term          614 non-null float64\n",
      "Credit_His        614 non-null object\n",
      "Prop_Area         614 non-null object\n",
      "INT_ID            614 non-null int64\n",
      "Prev_ID           614 non-null object\n",
      "AGT_ID            614 non-null object\n",
      "CPL_Status        614 non-null int32\n",
      "Loan_by_income    614 non-null float64\n",
      "dtypes: float64(5), int32(1), int64(1), object(14)\n",
      "memory usage: 98.5+ KB\n"
     ]
    }
   ],
   "source": [
    "train_data.info()"
   ]
  },
  {
   "cell_type": "code",
   "execution_count": 42,
   "metadata": {},
   "outputs": [
    {
     "name": "stdout",
     "output_type": "stream",
     "text": [
      "<class 'pandas.core.frame.DataFrame'>\n",
      "RangeIndex: 367 entries, 0 to 366\n",
      "Data columns (total 20 columns):\n",
      "Loanapp_ID        367 non-null object\n",
      "Sex               367 non-null object\n",
      "Marital_Status    367 non-null object\n",
      "first_name        367 non-null object\n",
      "last_name         367 non-null object\n",
      "email             367 non-null object\n",
      "address           367 non-null object\n",
      "Dependents        367 non-null object\n",
      "Qual_var          367 non-null object\n",
      "SE                367 non-null object\n",
      "App_Income_1      367 non-null float64\n",
      "App_Income_2      367 non-null float64\n",
      "CPL_Amount        367 non-null float64\n",
      "CPL_Term          367 non-null float64\n",
      "Credit_His        367 non-null object\n",
      "INT_ID            367 non-null int64\n",
      "Prev_ID           367 non-null object\n",
      "AGT_ID            367 non-null object\n",
      "Prop_Area         367 non-null object\n",
      "Loan_by_income    367 non-null float64\n",
      "dtypes: float64(5), int64(1), object(14)\n",
      "memory usage: 57.5+ KB\n"
     ]
    }
   ],
   "source": [
    "test_data.info()"
   ]
  },
  {
   "cell_type": "code",
   "execution_count": 43,
   "metadata": {},
   "outputs": [
    {
     "data": {
      "text/html": [
       "<div>\n",
       "<style scoped>\n",
       "    .dataframe tbody tr th:only-of-type {\n",
       "        vertical-align: middle;\n",
       "    }\n",
       "\n",
       "    .dataframe tbody tr th {\n",
       "        vertical-align: top;\n",
       "    }\n",
       "\n",
       "    .dataframe thead th {\n",
       "        text-align: right;\n",
       "    }\n",
       "</style>\n",
       "<table border=\"1\" class=\"dataframe\">\n",
       "  <thead>\n",
       "    <tr style=\"text-align: right;\">\n",
       "      <th></th>\n",
       "      <th>Sex</th>\n",
       "      <th>Marital_Status</th>\n",
       "      <th>Dependents</th>\n",
       "      <th>Qual_var</th>\n",
       "      <th>SE</th>\n",
       "      <th>App_Income_1</th>\n",
       "      <th>App_Income_2</th>\n",
       "      <th>CPL_Amount</th>\n",
       "      <th>CPL_Term</th>\n",
       "      <th>Credit_His</th>\n",
       "      <th>Prop_Area</th>\n",
       "      <th>CPL_Status</th>\n",
       "      <th>Loan_by_income</th>\n",
       "    </tr>\n",
       "  </thead>\n",
       "  <tbody>\n",
       "    <tr>\n",
       "      <td>0</td>\n",
       "      <td>M</td>\n",
       "      <td>N</td>\n",
       "      <td>0</td>\n",
       "      <td>Grad</td>\n",
       "      <td>N</td>\n",
       "      <td>7018.8</td>\n",
       "      <td>0.0</td>\n",
       "      <td>175.8</td>\n",
       "      <td>360.0</td>\n",
       "      <td>1</td>\n",
       "      <td>Urban</td>\n",
       "      <td>1</td>\n",
       "      <td>0.03</td>\n",
       "    </tr>\n",
       "    <tr>\n",
       "      <td>1</td>\n",
       "      <td>M</td>\n",
       "      <td>Y</td>\n",
       "      <td>1</td>\n",
       "      <td>Grad</td>\n",
       "      <td>N</td>\n",
       "      <td>5499.6</td>\n",
       "      <td>1809.6</td>\n",
       "      <td>153.6</td>\n",
       "      <td>360.0</td>\n",
       "      <td>1</td>\n",
       "      <td>Rural</td>\n",
       "      <td>0</td>\n",
       "      <td>0.03</td>\n",
       "    </tr>\n",
       "    <tr>\n",
       "      <td>2</td>\n",
       "      <td>M</td>\n",
       "      <td>Y</td>\n",
       "      <td>0</td>\n",
       "      <td>Grad</td>\n",
       "      <td>Y</td>\n",
       "      <td>3600.0</td>\n",
       "      <td>0.0</td>\n",
       "      <td>79.2</td>\n",
       "      <td>360.0</td>\n",
       "      <td>1</td>\n",
       "      <td>Urban</td>\n",
       "      <td>1</td>\n",
       "      <td>0.02</td>\n",
       "    </tr>\n",
       "    <tr>\n",
       "      <td>3</td>\n",
       "      <td>M</td>\n",
       "      <td>Y</td>\n",
       "      <td>0</td>\n",
       "      <td>Non Grad</td>\n",
       "      <td>N</td>\n",
       "      <td>3099.6</td>\n",
       "      <td>2829.6</td>\n",
       "      <td>144.0</td>\n",
       "      <td>360.0</td>\n",
       "      <td>1</td>\n",
       "      <td>Urban</td>\n",
       "      <td>1</td>\n",
       "      <td>0.05</td>\n",
       "    </tr>\n",
       "    <tr>\n",
       "      <td>4</td>\n",
       "      <td>M</td>\n",
       "      <td>N</td>\n",
       "      <td>0</td>\n",
       "      <td>Grad</td>\n",
       "      <td>N</td>\n",
       "      <td>7200.0</td>\n",
       "      <td>0.0</td>\n",
       "      <td>169.2</td>\n",
       "      <td>360.0</td>\n",
       "      <td>1</td>\n",
       "      <td>Urban</td>\n",
       "      <td>1</td>\n",
       "      <td>0.02</td>\n",
       "    </tr>\n",
       "  </tbody>\n",
       "</table>\n",
       "</div>"
      ],
      "text/plain": [
       "  Sex Marital_Status Dependents  Qual_var SE  App_Income_1  App_Income_2  \\\n",
       "0   M              N          0      Grad  N        7018.8           0.0   \n",
       "1   M              Y          1      Grad  N        5499.6        1809.6   \n",
       "2   M              Y          0      Grad  Y        3600.0           0.0   \n",
       "3   M              Y          0  Non Grad  N        3099.6        2829.6   \n",
       "4   M              N          0      Grad  N        7200.0           0.0   \n",
       "\n",
       "   CPL_Amount  CPL_Term Credit_His Prop_Area  CPL_Status  Loan_by_income  \n",
       "0       175.8     360.0          1     Urban           1            0.03  \n",
       "1       153.6     360.0          1     Rural           0            0.03  \n",
       "2        79.2     360.0          1     Urban           1            0.02  \n",
       "3       144.0     360.0          1     Urban           1            0.05  \n",
       "4       169.2     360.0          1     Urban           1            0.02  "
      ]
     },
     "execution_count": 43,
     "metadata": {},
     "output_type": "execute_result"
    }
   ],
   "source": [
    "#As we can see we have successfully filled all missing values in train and test data\n",
    "#We can remove columns that we think would'nt contribute to 'CPL_Status' prediction\n",
    "train_data = train_data.drop(['Loanapp_ID','first_name','last_name','email','address','INT_ID','Prev_ID','AGT_ID'],axis=1)\n",
    "train_data.head()"
   ]
  },
  {
   "cell_type": "code",
   "execution_count": 44,
   "metadata": {},
   "outputs": [],
   "source": [
    "#We need to convert categorical variables into numeric form\n",
    "\n",
    "genders = {\"M\": 0, \"F\": 1}\n",
    "datasets = [train_data, test_data]\n",
    "for data in datasets:\n",
    "    data['Sex'] = data['Sex'].map(genders)"
   ]
  },
  {
   "cell_type": "code",
   "execution_count": 45,
   "metadata": {},
   "outputs": [],
   "source": [
    "marriage = {\"N\": 0, \"Y\": 1}\n",
    "for data in datasets:\n",
    "    data['Marital_Status'] = data['Marital_Status'].map(marriage)"
   ]
  },
  {
   "cell_type": "code",
   "execution_count": 46,
   "metadata": {},
   "outputs": [],
   "source": [
    "depend = {0:0,1:1,2:2,\"3+\":3}\n",
    "for data in datasets:\n",
    "    data['Dependents'] = data['Dependents'].map(depend)\n",
    "   \n",
    "    \n"
   ]
  },
  {
   "cell_type": "code",
   "execution_count": 47,
   "metadata": {},
   "outputs": [],
   "source": [
    "qual={\"Non Grad\":0,\"Grad\":1}\n",
    "for data in datasets:\n",
    "    data['Qual_var'] = data['Qual_var'].map(qual)\n",
    "    "
   ]
  },
  {
   "cell_type": "code",
   "execution_count": 48,
   "metadata": {},
   "outputs": [],
   "source": [
    "se={\"N\":0,\"Y\":1}\n",
    "for data in datasets:\n",
    "    data['SE'] = data['SE'].map(se)\n",
    "    "
   ]
  },
  {
   "cell_type": "code",
   "execution_count": 49,
   "metadata": {},
   "outputs": [],
   "source": [
    "area={\"Urban\":0,\"Rural\":1,\"Semi U\":2}\n",
    "for data in datasets:\n",
    "    data['Prop_Area'] = data['Prop_Area'].map(area)\n",
    "    "
   ]
  },
  {
   "cell_type": "code",
   "execution_count": 50,
   "metadata": {},
   "outputs": [
    {
     "data": {
      "text/plain": [
       "360.0    526\n",
       "180.0     44\n",
       "480.0     15\n",
       "300.0     13\n",
       "84.0       4\n",
       "240.0      4\n",
       "120.0      3\n",
       "36.0       2\n",
       "60.0       2\n",
       "12.0       1\n",
       "Name: CPL_Term, dtype: int64"
      ]
     },
     "execution_count": 50,
     "metadata": {},
     "output_type": "execute_result"
    }
   ],
   "source": [
    "train_data['CPL_Term'].value_counts()"
   ]
  },
  {
   "cell_type": "code",
   "execution_count": 51,
   "metadata": {},
   "outputs": [],
   "source": [
    "cpl = {360:1,180:2,480:3,300:4,84:5,240:6,120:7,36:8,60:9,12:10,6:11,350:12}\n",
    "for data in datasets:\n",
    "    data['CPL_Term'] = data['CPL_Term'].map(cpl)"
   ]
  },
  {
   "cell_type": "code",
   "execution_count": 52,
   "metadata": {},
   "outputs": [],
   "source": [
    "credit_history={1:1,0:0,\"N\":0,\"Y\":1}\n",
    "for data in datasets:\n",
    "    data['Credit_His'] = data['Credit_His'].map(credit_history)\n",
    "    "
   ]
  },
  {
   "cell_type": "code",
   "execution_count": 53,
   "metadata": {},
   "outputs": [
    {
     "data": {
      "text/plain": [
       "0.02    125\n",
       "0.03    112\n",
       "0.04     96\n",
       "0.01     88\n",
       "0.05     61\n",
       "0.06     42\n",
       "0.07     21\n",
       "0.08     15\n",
       "0.00     13\n",
       "0.10     10\n",
       "0.09      6\n",
       "0.11      5\n",
       "0.12      3\n",
       "0.17      3\n",
       "0.28      2\n",
       "0.70      1\n",
       "0.13      1\n",
       "0.30      1\n",
       "0.19      1\n",
       "0.39      1\n",
       "0.18      1\n",
       "0.62      1\n",
       "0.40      1\n",
       "0.15      1\n",
       "1.13      1\n",
       "0.14      1\n",
       "0.20      1\n",
       "Name: Loan_by_income, dtype: int64"
      ]
     },
     "execution_count": 53,
     "metadata": {},
     "output_type": "execute_result"
    }
   ],
   "source": [
    "train_data['Loan_by_income'].value_counts()"
   ]
  },
  {
   "cell_type": "code",
   "execution_count": 54,
   "metadata": {},
   "outputs": [],
   "source": [
    "for data in datasets:\n",
    "    data['Loan_by_income'] = data['Loan_by_income'].astype(float)\n",
    "    data.loc[(data['Loan_by_income'] >=0.00) & (data['Loan_by_income'] <= 0.01), 'Loan_per_income'] = 0\n",
    "    data.loc[(data['Loan_by_income'] > 0.01) & (data['Loan_by_income'] <= 0.02), 'Loan_per_income'] = 1\n",
    "    data.loc[(data['Loan_by_income'] > 0.02) & (data['Loan_by_income'] <= 0.03), 'Loan_per_income'] = 2\n",
    "    data.loc[(data['Loan_by_income'] > 0.03) & (data['Loan_by_income'] <= 0.04), 'Loan_per_income'] = 3\n",
    "    data.loc[(data['Loan_by_income'] > 0.04) & (data['Loan_by_income'] <= 0.05), 'Loan_per_income'] = 4\n",
    "    data.loc[(data['Loan_by_income'] > 0.05) & (data['Loan_by_income'] <= 0.06), 'Loan_per_income'] = 5\n",
    "    data.loc[(data['Loan_by_income'] > 0.06) & (data['Loan_by_income'] <= 0.09), 'Loan_per_income'] = 6\n",
    "    data.loc[ data['Loan_by_income'] > 0.09, 'Loan_per_income'] = 7\n",
    "    data['Loan_per_income'] = data['Loan_per_income'].astype(int)\n",
    "\n",
    "# let's see how it's distributed train_df['Age'].value_counts()"
   ]
  },
  {
   "cell_type": "code",
   "execution_count": 55,
   "metadata": {},
   "outputs": [
    {
     "data": {
      "text/plain": [
       "1    125\n",
       "2    112\n",
       "0    101\n",
       "3     96\n",
       "4     61\n",
       "6     42\n",
       "5     42\n",
       "7     35\n",
       "Name: Loan_per_income, dtype: int64"
      ]
     },
     "execution_count": 55,
     "metadata": {},
     "output_type": "execute_result"
    }
   ],
   "source": [
    "train_data['Loan_per_income'].value_counts()"
   ]
  },
  {
   "cell_type": "code",
   "execution_count": 56,
   "metadata": {},
   "outputs": [],
   "source": [
    "train_data=train_data.drop(['Loan_by_income'],axis=1)"
   ]
  },
  {
   "cell_type": "code",
   "execution_count": 57,
   "metadata": {},
   "outputs": [
    {
     "name": "stdout",
     "output_type": "stream",
     "text": [
      "<class 'pandas.core.frame.DataFrame'>\n",
      "RangeIndex: 614 entries, 0 to 613\n",
      "Data columns (total 13 columns):\n",
      "Sex                614 non-null int64\n",
      "Marital_Status     614 non-null int64\n",
      "Dependents         614 non-null int64\n",
      "Qual_var           614 non-null int64\n",
      "SE                 614 non-null int64\n",
      "App_Income_1       614 non-null float64\n",
      "App_Income_2       614 non-null float64\n",
      "CPL_Amount         614 non-null float64\n",
      "CPL_Term           614 non-null int64\n",
      "Credit_His         614 non-null int64\n",
      "Prop_Area          614 non-null int64\n",
      "CPL_Status         614 non-null int32\n",
      "Loan_per_income    614 non-null int32\n",
      "dtypes: float64(3), int32(2), int64(8)\n",
      "memory usage: 57.7 KB\n"
     ]
    }
   ],
   "source": [
    "train_data.info()\n",
    "#We have converted values into numeric form "
   ]
  },
  {
   "cell_type": "code",
   "execution_count": 58,
   "metadata": {},
   "outputs": [
    {
     "data": {
      "text/html": [
       "<div>\n",
       "<style scoped>\n",
       "    .dataframe tbody tr th:only-of-type {\n",
       "        vertical-align: middle;\n",
       "    }\n",
       "\n",
       "    .dataframe tbody tr th {\n",
       "        vertical-align: top;\n",
       "    }\n",
       "\n",
       "    .dataframe thead th {\n",
       "        text-align: right;\n",
       "    }\n",
       "</style>\n",
       "<table border=\"1\" class=\"dataframe\">\n",
       "  <thead>\n",
       "    <tr style=\"text-align: right;\">\n",
       "      <th></th>\n",
       "      <th>Sex</th>\n",
       "      <th>Marital_Status</th>\n",
       "      <th>Dependents</th>\n",
       "      <th>Qual_var</th>\n",
       "      <th>SE</th>\n",
       "      <th>App_Income_1</th>\n",
       "      <th>App_Income_2</th>\n",
       "      <th>CPL_Amount</th>\n",
       "      <th>CPL_Term</th>\n",
       "      <th>Credit_His</th>\n",
       "      <th>Prop_Area</th>\n",
       "      <th>CPL_Status</th>\n",
       "      <th>Loan_per_income</th>\n",
       "    </tr>\n",
       "  </thead>\n",
       "  <tbody>\n",
       "    <tr>\n",
       "      <td>count</td>\n",
       "      <td>614.000000</td>\n",
       "      <td>614.000000</td>\n",
       "      <td>614.000000</td>\n",
       "      <td>614.000000</td>\n",
       "      <td>614.000000</td>\n",
       "      <td>614.000000</td>\n",
       "      <td>614.000000</td>\n",
       "      <td>614.000000</td>\n",
       "      <td>614.000000</td>\n",
       "      <td>614.000000</td>\n",
       "      <td>614.000000</td>\n",
       "      <td>614.000000</td>\n",
       "      <td>614.000000</td>\n",
       "    </tr>\n",
       "    <tr>\n",
       "      <td>mean</td>\n",
       "      <td>0.188925</td>\n",
       "      <td>0.653094</td>\n",
       "      <td>0.768730</td>\n",
       "      <td>0.781759</td>\n",
       "      <td>0.143322</td>\n",
       "      <td>6484.151140</td>\n",
       "      <td>1945.494958</td>\n",
       "      <td>175.805863</td>\n",
       "      <td>1.335505</td>\n",
       "      <td>0.783388</td>\n",
       "      <td>1.050489</td>\n",
       "      <td>0.687296</td>\n",
       "      <td>2.586319</td>\n",
       "    </tr>\n",
       "    <tr>\n",
       "      <td>std</td>\n",
       "      <td>0.391768</td>\n",
       "      <td>0.476373</td>\n",
       "      <td>1.022711</td>\n",
       "      <td>0.413389</td>\n",
       "      <td>0.350687</td>\n",
       "      <td>7330.850008</td>\n",
       "      <td>3511.498043</td>\n",
       "      <td>102.438603</td>\n",
       "      <td>1.091929</td>\n",
       "      <td>0.412272</td>\n",
       "      <td>0.840875</td>\n",
       "      <td>0.463973</td>\n",
       "      <td>2.052701</td>\n",
       "    </tr>\n",
       "    <tr>\n",
       "      <td>min</td>\n",
       "      <td>0.000000</td>\n",
       "      <td>0.000000</td>\n",
       "      <td>0.000000</td>\n",
       "      <td>0.000000</td>\n",
       "      <td>0.000000</td>\n",
       "      <td>180.000000</td>\n",
       "      <td>0.000000</td>\n",
       "      <td>10.800000</td>\n",
       "      <td>1.000000</td>\n",
       "      <td>0.000000</td>\n",
       "      <td>0.000000</td>\n",
       "      <td>0.000000</td>\n",
       "      <td>0.000000</td>\n",
       "    </tr>\n",
       "    <tr>\n",
       "      <td>25%</td>\n",
       "      <td>0.000000</td>\n",
       "      <td>0.000000</td>\n",
       "      <td>0.000000</td>\n",
       "      <td>1.000000</td>\n",
       "      <td>0.000000</td>\n",
       "      <td>3453.000000</td>\n",
       "      <td>0.000000</td>\n",
       "      <td>120.000000</td>\n",
       "      <td>1.000000</td>\n",
       "      <td>1.000000</td>\n",
       "      <td>0.000000</td>\n",
       "      <td>0.000000</td>\n",
       "      <td>1.000000</td>\n",
       "    </tr>\n",
       "    <tr>\n",
       "      <td>50%</td>\n",
       "      <td>0.000000</td>\n",
       "      <td>1.000000</td>\n",
       "      <td>0.000000</td>\n",
       "      <td>1.000000</td>\n",
       "      <td>0.000000</td>\n",
       "      <td>4575.000000</td>\n",
       "      <td>1426.200000</td>\n",
       "      <td>153.600000</td>\n",
       "      <td>1.000000</td>\n",
       "      <td>1.000000</td>\n",
       "      <td>1.000000</td>\n",
       "      <td>1.000000</td>\n",
       "      <td>2.000000</td>\n",
       "    </tr>\n",
       "    <tr>\n",
       "      <td>75%</td>\n",
       "      <td>0.000000</td>\n",
       "      <td>1.000000</td>\n",
       "      <td>2.000000</td>\n",
       "      <td>1.000000</td>\n",
       "      <td>0.000000</td>\n",
       "      <td>6954.000000</td>\n",
       "      <td>2756.700000</td>\n",
       "      <td>200.100000</td>\n",
       "      <td>1.000000</td>\n",
       "      <td>1.000000</td>\n",
       "      <td>2.000000</td>\n",
       "      <td>1.000000</td>\n",
       "      <td>4.000000</td>\n",
       "    </tr>\n",
       "    <tr>\n",
       "      <td>max</td>\n",
       "      <td>1.000000</td>\n",
       "      <td>1.000000</td>\n",
       "      <td>3.000000</td>\n",
       "      <td>1.000000</td>\n",
       "      <td>1.000000</td>\n",
       "      <td>97200.000000</td>\n",
       "      <td>50000.400000</td>\n",
       "      <td>840.000000</td>\n",
       "      <td>10.000000</td>\n",
       "      <td>1.000000</td>\n",
       "      <td>2.000000</td>\n",
       "      <td>1.000000</td>\n",
       "      <td>7.000000</td>\n",
       "    </tr>\n",
       "  </tbody>\n",
       "</table>\n",
       "</div>"
      ],
      "text/plain": [
       "              Sex  Marital_Status  Dependents    Qual_var          SE  \\\n",
       "count  614.000000      614.000000  614.000000  614.000000  614.000000   \n",
       "mean     0.188925        0.653094    0.768730    0.781759    0.143322   \n",
       "std      0.391768        0.476373    1.022711    0.413389    0.350687   \n",
       "min      0.000000        0.000000    0.000000    0.000000    0.000000   \n",
       "25%      0.000000        0.000000    0.000000    1.000000    0.000000   \n",
       "50%      0.000000        1.000000    0.000000    1.000000    0.000000   \n",
       "75%      0.000000        1.000000    2.000000    1.000000    0.000000   \n",
       "max      1.000000        1.000000    3.000000    1.000000    1.000000   \n",
       "\n",
       "       App_Income_1  App_Income_2  CPL_Amount    CPL_Term  Credit_His  \\\n",
       "count    614.000000    614.000000  614.000000  614.000000  614.000000   \n",
       "mean    6484.151140   1945.494958  175.805863    1.335505    0.783388   \n",
       "std     7330.850008   3511.498043  102.438603    1.091929    0.412272   \n",
       "min      180.000000      0.000000   10.800000    1.000000    0.000000   \n",
       "25%     3453.000000      0.000000  120.000000    1.000000    1.000000   \n",
       "50%     4575.000000   1426.200000  153.600000    1.000000    1.000000   \n",
       "75%     6954.000000   2756.700000  200.100000    1.000000    1.000000   \n",
       "max    97200.000000  50000.400000  840.000000   10.000000    1.000000   \n",
       "\n",
       "        Prop_Area  CPL_Status  Loan_per_income  \n",
       "count  614.000000  614.000000       614.000000  \n",
       "mean     1.050489    0.687296         2.586319  \n",
       "std      0.840875    0.463973         2.052701  \n",
       "min      0.000000    0.000000         0.000000  \n",
       "25%      0.000000    0.000000         1.000000  \n",
       "50%      1.000000    1.000000         2.000000  \n",
       "75%      2.000000    1.000000         4.000000  \n",
       "max      2.000000    1.000000         7.000000  "
      ]
     },
     "execution_count": 58,
     "metadata": {},
     "output_type": "execute_result"
    }
   ],
   "source": [
    "train_data.describe()"
   ]
  },
  {
   "cell_type": "code",
   "execution_count": 59,
   "metadata": {},
   "outputs": [
    {
     "data": {
      "text/html": [
       "<div>\n",
       "<style scoped>\n",
       "    .dataframe tbody tr th:only-of-type {\n",
       "        vertical-align: middle;\n",
       "    }\n",
       "\n",
       "    .dataframe tbody tr th {\n",
       "        vertical-align: top;\n",
       "    }\n",
       "\n",
       "    .dataframe thead th {\n",
       "        text-align: right;\n",
       "    }\n",
       "</style>\n",
       "<table border=\"1\" class=\"dataframe\">\n",
       "  <thead>\n",
       "    <tr style=\"text-align: right;\">\n",
       "      <th></th>\n",
       "      <th>Sex</th>\n",
       "      <th>Marital_Status</th>\n",
       "      <th>Dependents</th>\n",
       "      <th>Qual_var</th>\n",
       "      <th>SE</th>\n",
       "      <th>App_Income_1</th>\n",
       "      <th>App_Income_2</th>\n",
       "      <th>CPL_Amount</th>\n",
       "      <th>CPL_Term</th>\n",
       "      <th>Credit_His</th>\n",
       "      <th>Prop_Area</th>\n",
       "      <th>CPL_Status</th>\n",
       "      <th>Loan_per_income</th>\n",
       "    </tr>\n",
       "  </thead>\n",
       "  <tbody>\n",
       "    <tr>\n",
       "      <td>0</td>\n",
       "      <td>0</td>\n",
       "      <td>0</td>\n",
       "      <td>0</td>\n",
       "      <td>1</td>\n",
       "      <td>0</td>\n",
       "      <td>7018.8</td>\n",
       "      <td>0.0</td>\n",
       "      <td>175.8</td>\n",
       "      <td>1</td>\n",
       "      <td>1</td>\n",
       "      <td>0</td>\n",
       "      <td>1</td>\n",
       "      <td>2</td>\n",
       "    </tr>\n",
       "    <tr>\n",
       "      <td>1</td>\n",
       "      <td>0</td>\n",
       "      <td>1</td>\n",
       "      <td>1</td>\n",
       "      <td>1</td>\n",
       "      <td>0</td>\n",
       "      <td>5499.6</td>\n",
       "      <td>1809.6</td>\n",
       "      <td>153.6</td>\n",
       "      <td>1</td>\n",
       "      <td>1</td>\n",
       "      <td>1</td>\n",
       "      <td>0</td>\n",
       "      <td>2</td>\n",
       "    </tr>\n",
       "    <tr>\n",
       "      <td>2</td>\n",
       "      <td>0</td>\n",
       "      <td>1</td>\n",
       "      <td>0</td>\n",
       "      <td>1</td>\n",
       "      <td>1</td>\n",
       "      <td>3600.0</td>\n",
       "      <td>0.0</td>\n",
       "      <td>79.2</td>\n",
       "      <td>1</td>\n",
       "      <td>1</td>\n",
       "      <td>0</td>\n",
       "      <td>1</td>\n",
       "      <td>1</td>\n",
       "    </tr>\n",
       "    <tr>\n",
       "      <td>3</td>\n",
       "      <td>0</td>\n",
       "      <td>1</td>\n",
       "      <td>0</td>\n",
       "      <td>0</td>\n",
       "      <td>0</td>\n",
       "      <td>3099.6</td>\n",
       "      <td>2829.6</td>\n",
       "      <td>144.0</td>\n",
       "      <td>1</td>\n",
       "      <td>1</td>\n",
       "      <td>0</td>\n",
       "      <td>1</td>\n",
       "      <td>4</td>\n",
       "    </tr>\n",
       "    <tr>\n",
       "      <td>4</td>\n",
       "      <td>0</td>\n",
       "      <td>0</td>\n",
       "      <td>0</td>\n",
       "      <td>1</td>\n",
       "      <td>0</td>\n",
       "      <td>7200.0</td>\n",
       "      <td>0.0</td>\n",
       "      <td>169.2</td>\n",
       "      <td>1</td>\n",
       "      <td>1</td>\n",
       "      <td>0</td>\n",
       "      <td>1</td>\n",
       "      <td>1</td>\n",
       "    </tr>\n",
       "  </tbody>\n",
       "</table>\n",
       "</div>"
      ],
      "text/plain": [
       "   Sex  Marital_Status  Dependents  Qual_var  SE  App_Income_1  App_Income_2  \\\n",
       "0    0               0           0         1   0        7018.8           0.0   \n",
       "1    0               1           1         1   0        5499.6        1809.6   \n",
       "2    0               1           0         1   1        3600.0           0.0   \n",
       "3    0               1           0         0   0        3099.6        2829.6   \n",
       "4    0               0           0         1   0        7200.0           0.0   \n",
       "\n",
       "   CPL_Amount  CPL_Term  Credit_His  Prop_Area  CPL_Status  Loan_per_income  \n",
       "0       175.8         1           1          0           1                2  \n",
       "1       153.6         1           1          1           0                2  \n",
       "2        79.2         1           1          0           1                1  \n",
       "3       144.0         1           1          0           1                4  \n",
       "4       169.2         1           1          0           1                1  "
      ]
     },
     "execution_count": 59,
     "metadata": {},
     "output_type": "execute_result"
    }
   ],
   "source": [
    "train_data.head()"
   ]
  },
  {
   "cell_type": "code",
   "execution_count": 60,
   "metadata": {},
   "outputs": [
    {
     "data": {
      "text/plain": [
       "Text(0, 0.5, 'Frequency')"
      ]
     },
     "execution_count": 60,
     "metadata": {},
     "output_type": "execute_result"
    },
    {
     "data": {
      "image/png": "[encoded data removed]",
      "text/plain": [
       "<Figure size 432x288 with 1 Axes>"
      ]
     },
     "metadata": {
      "needs_background": "light"
     },
     "output_type": "display_data"
    }
   ],
   "source": [
    "#We need to bin the incomes and CPL amounts\n",
    "\n",
    "fig, ax = plt.subplots()\n",
    "train_data['App_Income_1'].hist(color='red', edgecolor='black',  \n",
    "                          grid=False)\n",
    "ax.set_title('Applicant Income 1', fontsize=12)\n",
    "ax.set_xlabel('Income', fontsize=12)\n",
    "ax.set_ylabel('Frequency', fontsize=12)"
   ]
  },
  {
   "cell_type": "code",
   "execution_count": 61,
   "metadata": {},
   "outputs": [
    {
     "data": {
      "text/plain": [
       "Text(0, 0.5, 'Frequency')"
      ]
     },
     "execution_count": 61,
     "metadata": {},
     "output_type": "execute_result"
    },
    {
     "data": {
      "image/png": "[encoded data removed]",
      "text/plain": [
       "<Figure size 432x288 with 1 Axes>"
      ]
     },
     "metadata": {
      "needs_background": "light"
     },
     "output_type": "display_data"
    }
   ],
   "source": [
    "fig, ax = plt.subplots()\n",
    "train_data['App_Income_2'].hist(color='blue', edgecolor='black',  \n",
    "                          grid=False)\n",
    "ax.set_title('Applicant Income 2', fontsize=12)\n",
    "ax.set_xlabel('Income', fontsize=12)\n",
    "ax.set_ylabel('Frequency', fontsize=12)"
   ]
  },
  {
   "cell_type": "code",
   "execution_count": 62,
   "metadata": {},
   "outputs": [
    {
     "data": {
      "text/plain": [
       "Text(0, 0.5, 'Frequency')"
      ]
     },
     "execution_count": 62,
     "metadata": {},
     "output_type": "execute_result"
    },
    {
     "data": {
      "image/png": "[encoded data removed]",
      "text/plain": [
       "<Figure size 432x288 with 1 Axes>"
      ]
     },
     "metadata": {
      "needs_background": "light"
     },
     "output_type": "display_data"
    }
   ],
   "source": [
    "fig, ax = plt.subplots()\n",
    "train_data['CPL_Amount'].hist(color='green', edgecolor='black',  \n",
    "                          grid=False)\n",
    "ax.set_title('Loan Amount', fontsize=12)\n",
    "ax.set_xlabel('Amount', fontsize=12)\n",
    "ax.set_ylabel('Frequency', fontsize=12)"
   ]
  },
  {
   "cell_type": "code",
   "execution_count": 63,
   "metadata": {},
   "outputs": [
    {
     "data": {
      "text/plain": [
       "0.00      180.0\n",
       "0.25     3453.0\n",
       "0.50     4575.0\n",
       "0.75     6954.0\n",
       "1.00    97200.0\n",
       "Name: App_Income_1, dtype: float64"
      ]
     },
     "execution_count": 63,
     "metadata": {},
     "output_type": "execute_result"
    }
   ],
   "source": [
    "quantile_list = [0, .25, .5, .75, 1.]\n",
    "quantiles = train_data['App_Income_1'].quantile(quantile_list)\n",
    "quantiles"
   ]
  },
  {
   "cell_type": "code",
   "execution_count": 64,
   "metadata": {},
   "outputs": [],
   "source": [
    "datasets=[train_data,test_data]\n",
    "for data in datasets:\n",
    "    data.loc[(data['App_Income_1'] >=0) & (data['App_Income_1'] <= 180), 'Income_1'] = 0\n",
    "    data.loc[(data['App_Income_1'] > 180) & (data['App_Income_1'] <= 3452.75), 'Income_1'] = 1\n",
    "    data.loc[(data['App_Income_1'] > 3452.75) & (data['App_Income_1'] <= 4574.50), 'Income_1'] = 2\n",
    "    data.loc[(data['App_Income_1'] > 4574.50) & (data['App_Income_1'] <= 6954), 'Income_1'] = 3\n",
    "    data.loc[ data['App_Income_1'] > 6954, 'Income_1'] = 4\n",
    "    data['Income_1'] = data['Income_1'].astype(int)"
   ]
  },
  {
   "cell_type": "code",
   "execution_count": 65,
   "metadata": {},
   "outputs": [
    {
     "data": {
      "text/plain": [
       "0.00        0.0\n",
       "0.25        0.0\n",
       "0.50     1426.2\n",
       "0.75     2756.7\n",
       "1.00    50000.4\n",
       "Name: App_Income_2, dtype: float64"
      ]
     },
     "execution_count": 65,
     "metadata": {},
     "output_type": "execute_result"
    }
   ],
   "source": [
    "quantile_list = [0, .25, .5, .75, 1.]\n",
    "quantiles = train_data['App_Income_2'].quantile(quantile_list)\n",
    "quantiles"
   ]
  },
  {
   "cell_type": "code",
   "execution_count": 66,
   "metadata": {},
   "outputs": [],
   "source": [
    "for data in datasets:\n",
    "    data.loc[data['App_Income_2'] == 0, 'Income_2'] = 0\n",
    "    data.loc[(data['App_Income_2'] > 0) & (data['App_Income_2'] <= 1426), 'Income_2'] = 1\n",
    "    data.loc[(data['App_Income_2'] > 1426) & (data['App_Income_2'] <= 2756.25), 'Income_2'] = 2\n",
    "    data.loc[data['App_Income_2'] > 2756.25, 'Income_2'] = 3\n",
    "    data['Income_2'] = data['Income_2'].astype(int)"
   ]
  },
  {
   "cell_type": "code",
   "execution_count": 67,
   "metadata": {},
   "outputs": [
    {
     "data": {
      "text/plain": [
       "0.00     10.8\n",
       "0.25    120.0\n",
       "0.50    153.6\n",
       "0.75    200.1\n",
       "1.00    840.0\n",
       "Name: CPL_Amount, dtype: float64"
      ]
     },
     "execution_count": 67,
     "metadata": {},
     "output_type": "execute_result"
    }
   ],
   "source": [
    "quantile_list = [0, .25, .5, .75, 1.]\n",
    "quantiles = train_data['CPL_Amount'].quantile(quantile_list)\n",
    "quantiles"
   ]
  },
  {
   "cell_type": "code",
   "execution_count": 68,
   "metadata": {},
   "outputs": [],
   "source": [
    "for data in datasets:\n",
    "    data.loc[(data['CPL_Amount'] >=0) & (data['CPL_Amount'] <= 10.8), 'Loan_Amount'] = 0\n",
    "    data.loc[(data['CPL_Amount'] > 10.8) & (data['CPL_Amount'] <= 120), 'Loan_Amount'] = 1\n",
    "    data.loc[(data['CPL_Amount'] > 120) & (data['CPL_Amount'] <= 153.6), 'Loan_Amount'] = 2\n",
    "    data.loc[(data['CPL_Amount'] > 153.6) & (data['CPL_Amount'] <= 200.1), 'Loan_Amount'] = 3\n",
    "    data.loc[ data['CPL_Amount'] > 200.1, 'Loan_Amount'] = 4\n",
    "    data['Loan_Amount'] = data['Loan_Amount'].astype(int)"
   ]
  },
  {
   "cell_type": "code",
   "execution_count": 69,
   "metadata": {},
   "outputs": [
    {
     "data": {
      "text/html": [
       "<div>\n",
       "<style scoped>\n",
       "    .dataframe tbody tr th:only-of-type {\n",
       "        vertical-align: middle;\n",
       "    }\n",
       "\n",
       "    .dataframe tbody tr th {\n",
       "        vertical-align: top;\n",
       "    }\n",
       "\n",
       "    .dataframe thead th {\n",
       "        text-align: right;\n",
       "    }\n",
       "</style>\n",
       "<table border=\"1\" class=\"dataframe\">\n",
       "  <thead>\n",
       "    <tr style=\"text-align: right;\">\n",
       "      <th></th>\n",
       "      <th>Sex</th>\n",
       "      <th>Marital_Status</th>\n",
       "      <th>Dependents</th>\n",
       "      <th>Qual_var</th>\n",
       "      <th>SE</th>\n",
       "      <th>App_Income_1</th>\n",
       "      <th>App_Income_2</th>\n",
       "      <th>CPL_Amount</th>\n",
       "      <th>CPL_Term</th>\n",
       "      <th>Credit_His</th>\n",
       "      <th>Prop_Area</th>\n",
       "      <th>CPL_Status</th>\n",
       "      <th>Loan_per_income</th>\n",
       "      <th>Income_1</th>\n",
       "      <th>Income_2</th>\n",
       "      <th>Loan_Amount</th>\n",
       "    </tr>\n",
       "  </thead>\n",
       "  <tbody>\n",
       "    <tr>\n",
       "      <td>0</td>\n",
       "      <td>0</td>\n",
       "      <td>0</td>\n",
       "      <td>0</td>\n",
       "      <td>1</td>\n",
       "      <td>0</td>\n",
       "      <td>7018.8</td>\n",
       "      <td>0.0</td>\n",
       "      <td>175.8</td>\n",
       "      <td>1</td>\n",
       "      <td>1</td>\n",
       "      <td>0</td>\n",
       "      <td>1</td>\n",
       "      <td>2</td>\n",
       "      <td>4</td>\n",
       "      <td>0</td>\n",
       "      <td>3</td>\n",
       "    </tr>\n",
       "    <tr>\n",
       "      <td>1</td>\n",
       "      <td>0</td>\n",
       "      <td>1</td>\n",
       "      <td>1</td>\n",
       "      <td>1</td>\n",
       "      <td>0</td>\n",
       "      <td>5499.6</td>\n",
       "      <td>1809.6</td>\n",
       "      <td>153.6</td>\n",
       "      <td>1</td>\n",
       "      <td>1</td>\n",
       "      <td>1</td>\n",
       "      <td>0</td>\n",
       "      <td>2</td>\n",
       "      <td>3</td>\n",
       "      <td>2</td>\n",
       "      <td>2</td>\n",
       "    </tr>\n",
       "    <tr>\n",
       "      <td>2</td>\n",
       "      <td>0</td>\n",
       "      <td>1</td>\n",
       "      <td>0</td>\n",
       "      <td>1</td>\n",
       "      <td>1</td>\n",
       "      <td>3600.0</td>\n",
       "      <td>0.0</td>\n",
       "      <td>79.2</td>\n",
       "      <td>1</td>\n",
       "      <td>1</td>\n",
       "      <td>0</td>\n",
       "      <td>1</td>\n",
       "      <td>1</td>\n",
       "      <td>2</td>\n",
       "      <td>0</td>\n",
       "      <td>1</td>\n",
       "    </tr>\n",
       "    <tr>\n",
       "      <td>3</td>\n",
       "      <td>0</td>\n",
       "      <td>1</td>\n",
       "      <td>0</td>\n",
       "      <td>0</td>\n",
       "      <td>0</td>\n",
       "      <td>3099.6</td>\n",
       "      <td>2829.6</td>\n",
       "      <td>144.0</td>\n",
       "      <td>1</td>\n",
       "      <td>1</td>\n",
       "      <td>0</td>\n",
       "      <td>1</td>\n",
       "      <td>4</td>\n",
       "      <td>1</td>\n",
       "      <td>3</td>\n",
       "      <td>2</td>\n",
       "    </tr>\n",
       "    <tr>\n",
       "      <td>4</td>\n",
       "      <td>0</td>\n",
       "      <td>0</td>\n",
       "      <td>0</td>\n",
       "      <td>1</td>\n",
       "      <td>0</td>\n",
       "      <td>7200.0</td>\n",
       "      <td>0.0</td>\n",
       "      <td>169.2</td>\n",
       "      <td>1</td>\n",
       "      <td>1</td>\n",
       "      <td>0</td>\n",
       "      <td>1</td>\n",
       "      <td>1</td>\n",
       "      <td>4</td>\n",
       "      <td>0</td>\n",
       "      <td>3</td>\n",
       "    </tr>\n",
       "  </tbody>\n",
       "</table>\n",
       "</div>"
      ],
      "text/plain": [
       "   Sex  Marital_Status  Dependents  Qual_var  SE  App_Income_1  App_Income_2  \\\n",
       "0    0               0           0         1   0        7018.8           0.0   \n",
       "1    0               1           1         1   0        5499.6        1809.6   \n",
       "2    0               1           0         1   1        3600.0           0.0   \n",
       "3    0               1           0         0   0        3099.6        2829.6   \n",
       "4    0               0           0         1   0        7200.0           0.0   \n",
       "\n",
       "   CPL_Amount  CPL_Term  Credit_His  Prop_Area  CPL_Status  Loan_per_income  \\\n",
       "0       175.8         1           1          0           1                2   \n",
       "1       153.6         1           1          1           0                2   \n",
       "2        79.2         1           1          0           1                1   \n",
       "3       144.0         1           1          0           1                4   \n",
       "4       169.2         1           1          0           1                1   \n",
       "\n",
       "   Income_1  Income_2  Loan_Amount  \n",
       "0         4         0            3  \n",
       "1         3         2            2  \n",
       "2         2         0            1  \n",
       "3         1         3            2  \n",
       "4         4         0            3  "
      ]
     },
     "execution_count": 69,
     "metadata": {},
     "output_type": "execute_result"
    }
   ],
   "source": [
    "train_data.head()"
   ]
  },
  {
   "cell_type": "code",
   "execution_count": 70,
   "metadata": {},
   "outputs": [
    {
     "data": {
      "text/html": [
       "<div>\n",
       "<style scoped>\n",
       "    .dataframe tbody tr th:only-of-type {\n",
       "        vertical-align: middle;\n",
       "    }\n",
       "\n",
       "    .dataframe tbody tr th {\n",
       "        vertical-align: top;\n",
       "    }\n",
       "\n",
       "    .dataframe thead th {\n",
       "        text-align: right;\n",
       "    }\n",
       "</style>\n",
       "<table border=\"1\" class=\"dataframe\">\n",
       "  <thead>\n",
       "    <tr style=\"text-align: right;\">\n",
       "      <th></th>\n",
       "      <th>Sex</th>\n",
       "      <th>Marital_Status</th>\n",
       "      <th>Dependents</th>\n",
       "      <th>Qual_var</th>\n",
       "      <th>SE</th>\n",
       "      <th>CPL_Term</th>\n",
       "      <th>Credit_His</th>\n",
       "      <th>Prop_Area</th>\n",
       "      <th>CPL_Status</th>\n",
       "      <th>Loan_per_income</th>\n",
       "      <th>Income_1</th>\n",
       "      <th>Income_2</th>\n",
       "      <th>Loan_Amount</th>\n",
       "    </tr>\n",
       "  </thead>\n",
       "  <tbody>\n",
       "    <tr>\n",
       "      <td>0</td>\n",
       "      <td>0</td>\n",
       "      <td>0</td>\n",
       "      <td>0</td>\n",
       "      <td>1</td>\n",
       "      <td>0</td>\n",
       "      <td>1</td>\n",
       "      <td>1</td>\n",
       "      <td>0</td>\n",
       "      <td>1</td>\n",
       "      <td>2</td>\n",
       "      <td>4</td>\n",
       "      <td>0</td>\n",
       "      <td>3</td>\n",
       "    </tr>\n",
       "    <tr>\n",
       "      <td>1</td>\n",
       "      <td>0</td>\n",
       "      <td>1</td>\n",
       "      <td>1</td>\n",
       "      <td>1</td>\n",
       "      <td>0</td>\n",
       "      <td>1</td>\n",
       "      <td>1</td>\n",
       "      <td>1</td>\n",
       "      <td>0</td>\n",
       "      <td>2</td>\n",
       "      <td>3</td>\n",
       "      <td>2</td>\n",
       "      <td>2</td>\n",
       "    </tr>\n",
       "    <tr>\n",
       "      <td>2</td>\n",
       "      <td>0</td>\n",
       "      <td>1</td>\n",
       "      <td>0</td>\n",
       "      <td>1</td>\n",
       "      <td>1</td>\n",
       "      <td>1</td>\n",
       "      <td>1</td>\n",
       "      <td>0</td>\n",
       "      <td>1</td>\n",
       "      <td>1</td>\n",
       "      <td>2</td>\n",
       "      <td>0</td>\n",
       "      <td>1</td>\n",
       "    </tr>\n",
       "    <tr>\n",
       "      <td>3</td>\n",
       "      <td>0</td>\n",
       "      <td>1</td>\n",
       "      <td>0</td>\n",
       "      <td>0</td>\n",
       "      <td>0</td>\n",
       "      <td>1</td>\n",
       "      <td>1</td>\n",
       "      <td>0</td>\n",
       "      <td>1</td>\n",
       "      <td>4</td>\n",
       "      <td>1</td>\n",
       "      <td>3</td>\n",
       "      <td>2</td>\n",
       "    </tr>\n",
       "    <tr>\n",
       "      <td>4</td>\n",
       "      <td>0</td>\n",
       "      <td>0</td>\n",
       "      <td>0</td>\n",
       "      <td>1</td>\n",
       "      <td>0</td>\n",
       "      <td>1</td>\n",
       "      <td>1</td>\n",
       "      <td>0</td>\n",
       "      <td>1</td>\n",
       "      <td>1</td>\n",
       "      <td>4</td>\n",
       "      <td>0</td>\n",
       "      <td>3</td>\n",
       "    </tr>\n",
       "  </tbody>\n",
       "</table>\n",
       "</div>"
      ],
      "text/plain": [
       "   Sex  Marital_Status  Dependents  Qual_var  SE  CPL_Term  Credit_His  \\\n",
       "0    0               0           0         1   0         1           1   \n",
       "1    0               1           1         1   0         1           1   \n",
       "2    0               1           0         1   1         1           1   \n",
       "3    0               1           0         0   0         1           1   \n",
       "4    0               0           0         1   0         1           1   \n",
       "\n",
       "   Prop_Area  CPL_Status  Loan_per_income  Income_1  Income_2  Loan_Amount  \n",
       "0          0           1                2         4         0            3  \n",
       "1          1           0                2         3         2            2  \n",
       "2          0           1                1         2         0            1  \n",
       "3          0           1                4         1         3            2  \n",
       "4          0           1                1         4         0            3  "
      ]
     },
     "execution_count": 70,
     "metadata": {},
     "output_type": "execute_result"
    }
   ],
   "source": [
    "#Now we can drop 'App_Income_1','App_Income_2' and 'CPL_Amount' from train data\n",
    "train_data = train_data.drop([\"App_Income_1\",\"App_Income_2\",\"CPL_Amount\"],axis=1)\n",
    "train_data.head()"
   ]
  },
  {
   "cell_type": "code",
   "execution_count": 71,
   "metadata": {},
   "outputs": [],
   "source": [
    "test_data=test_data.drop([\"first_name\",\"last_name\",\"email\",\"address\",\"INT_ID\",\"Prev_ID\",\"AGT_ID\",\"Loan_by_income\",\"App_Income_1\",\"App_Income_2\",\"CPL_Amount\"],axis=1)"
   ]
  },
  {
   "cell_type": "code",
   "execution_count": 72,
   "metadata": {},
   "outputs": [],
   "source": [
    "Y_train = train_data[\"CPL_Status\"]\n",
    "X_train = train_data.drop(\"CPL_Status\",axis=1)\n",
    "X_test  = test_data.drop(\"Loanapp_ID\", axis=1).copy()"
   ]
  },
  {
   "cell_type": "code",
   "execution_count": 73,
   "metadata": {},
   "outputs": [
    {
     "name": "stderr",
     "output_type": "stream",
     "text": [
      "C:\\Users\\PLAVAK\\Anaconda3\\lib\\site-packages\\sklearn\\linear_model\\logistic.py:432: FutureWarning: Default solver will be changed to 'lbfgs' in 0.22. Specify a solver to silence this warning.\n",
      "  FutureWarning)\n"
     ]
    }
   ],
   "source": [
    "#Logistic Regression\n",
    "log_reg = LogisticRegression()\n",
    "log_reg.fit(X_train, Y_train)\n",
    "Y_pred = log_reg.predict(X_test)\n",
    "log_reg_accuracy = round(log_reg.score(X_train, Y_train) * 100, 2)"
   ]
  },
  {
   "cell_type": "code",
   "execution_count": 74,
   "metadata": {},
   "outputs": [
    {
     "name": "stderr",
     "output_type": "stream",
     "text": [
      "C:\\Users\\PLAVAK\\Anaconda3\\lib\\site-packages\\sklearn\\svm\\base.py:929: ConvergenceWarning: Liblinear failed to converge, increase the number of iterations.\n",
      "  \"the number of iterations.\", ConvergenceWarning)\n"
     ]
    }
   ],
   "source": [
    "#Support Vector Classifier\n",
    "svc = LinearSVC()\n",
    "svc.fit(X_train, Y_train)\n",
    "Y_pred = svc.predict(X_test)\n",
    "svc_accuracy = round(svc.score(X_train, Y_train) * 100, 2)"
   ]
  },
  {
   "cell_type": "code",
   "execution_count": 75,
   "metadata": {},
   "outputs": [],
   "source": [
    "#K-nearest Neighbor\n",
    "knn = KNeighborsClassifier(n_neighbors = 3) \n",
    "knn.fit(X_train, Y_train)  \n",
    "Y_pred = knn.predict(X_test)  \n",
    "knn_accuracy = round(knn.score(X_train, Y_train) * 100, 2)"
   ]
  },
  {
   "cell_type": "code",
   "execution_count": 76,
   "metadata": {},
   "outputs": [],
   "source": [
    "#Decision Tree\n",
    "d_tree = DecisionTreeClassifier()\n",
    "d_tree.fit(X_train, Y_train)\n",
    "Y_pred = d_tree.predict(X_test)\n",
    "d_tree_accuracy = round(d_tree.score(X_train, Y_train) * 100, 2)"
   ]
  },
  {
   "cell_type": "code",
   "execution_count": 77,
   "metadata": {},
   "outputs": [],
   "source": [
    "#Random Forest\n",
    "rf = RandomForestClassifier(n_estimators=100)\n",
    "rf.fit(X_train, Y_train)\n",
    "Y_prediction = rf.predict(X_test)\n",
    "rf_accuracy = round(rf.score(X_train, Y_train) * 100, 2)"
   ]
  },
  {
   "cell_type": "code",
   "execution_count": 78,
   "metadata": {},
   "outputs": [],
   "source": [
    "#XGB Classifier\n",
    "xgb = XGBClassifier()\n",
    "xgb.fit(X_train, Y_train)\n",
    "Y_pred = xgb.predict(X_test)\n",
    "xgb_accuracy = round(xgb.score(X_train, Y_train) * 100, 2)"
   ]
  },
  {
   "cell_type": "code",
   "execution_count": 79,
   "metadata": {},
   "outputs": [
    {
     "data": {
      "text/html": [
       "<div>\n",
       "<style scoped>\n",
       "    .dataframe tbody tr th:only-of-type {\n",
       "        vertical-align: middle;\n",
       "    }\n",
       "\n",
       "    .dataframe tbody tr th {\n",
       "        vertical-align: top;\n",
       "    }\n",
       "\n",
       "    .dataframe thead th {\n",
       "        text-align: right;\n",
       "    }\n",
       "</style>\n",
       "<table border=\"1\" class=\"dataframe\">\n",
       "  <thead>\n",
       "    <tr style=\"text-align: right;\">\n",
       "      <th></th>\n",
       "      <th>Model</th>\n",
       "    </tr>\n",
       "    <tr>\n",
       "      <th>Accuracy</th>\n",
       "      <th></th>\n",
       "    </tr>\n",
       "  </thead>\n",
       "  <tbody>\n",
       "    <tr>\n",
       "      <td>99.02</td>\n",
       "      <td>Decision Tree</td>\n",
       "    </tr>\n",
       "    <tr>\n",
       "      <td>99.02</td>\n",
       "      <td>Random Forest</td>\n",
       "    </tr>\n",
       "    <tr>\n",
       "      <td>98.05</td>\n",
       "      <td>XGB</td>\n",
       "    </tr>\n",
       "    <tr>\n",
       "      <td>81.27</td>\n",
       "      <td>KNN</td>\n",
       "    </tr>\n",
       "    <tr>\n",
       "      <td>77.69</td>\n",
       "      <td>Logistic Regression</td>\n",
       "    </tr>\n",
       "    <tr>\n",
       "      <td>77.69</td>\n",
       "      <td>SVC</td>\n",
       "    </tr>\n",
       "  </tbody>\n",
       "</table>\n",
       "</div>"
      ],
      "text/plain": [
       "                        Model\n",
       "Accuracy                     \n",
       "99.02           Decision Tree\n",
       "99.02           Random Forest\n",
       "98.05                     XGB\n",
       "81.27                     KNN\n",
       "77.69     Logistic Regression\n",
       "77.69                     SVC"
      ]
     },
     "execution_count": 79,
     "metadata": {},
     "output_type": "execute_result"
    }
   ],
   "source": [
    "models = ['Logistic Regression','SVC','KNN', 'Decision Tree','Random Forest','XGB']\n",
    "accuracy = [log_reg_accuracy,svc_accuracy,knn_accuracy,d_tree_accuracy,rf_accuracy,xgb_accuracy]\n",
    "table = pd.DataFrame({'Model':models,'Accuracy':accuracy}).sort_values(by='Accuracy',ascending=False)\n",
    "table = table.set_index('Accuracy')\n",
    "table.head(6)"
   ]
  },
  {
   "cell_type": "code",
   "execution_count": 80,
   "metadata": {},
   "outputs": [
    {
     "name": "stdout",
     "output_type": "stream",
     "text": [
      "Scores: [0.74603175 0.76190476 0.75409836 0.63934426 0.70491803 0.6557377\n",
      " 0.73770492 0.73770492 0.73770492 0.72131148]\n",
      "Mean: 0.7196461098100443\n",
      "Standard Deviation: 0.03924242009973001\n"
     ]
    }
   ],
   "source": [
    "#Random Forest and Decision Tree give the highest accuracy\n",
    "#Let's see the results with K-Fold Cross Validation\n",
    "from sklearn.model_selection import cross_val_score\n",
    "random_forest = RandomForestClassifier(n_estimators=100)\n",
    "scores = cross_val_score(random_forest, X_train, Y_train, cv=10, scoring = \"accuracy\")\n",
    "print(\"Scores:\", scores)\n",
    "print(\"Mean:\", scores.mean())\n",
    "print(\"Standard Deviation:\", scores.std())\n",
    "\n",
    "#This is more realistic.\n",
    "#The model shows an average accuracy of 72% with standard deviation of 4%"
   ]
  },
  {
   "cell_type": "code",
   "execution_count": 81,
   "metadata": {},
   "outputs": [
    {
     "data": {
      "text/html": [
       "<div>\n",
       "<style scoped>\n",
       "    .dataframe tbody tr th:only-of-type {\n",
       "        vertical-align: middle;\n",
       "    }\n",
       "\n",
       "    .dataframe tbody tr th {\n",
       "        vertical-align: top;\n",
       "    }\n",
       "\n",
       "    .dataframe thead th {\n",
       "        text-align: right;\n",
       "    }\n",
       "</style>\n",
       "<table border=\"1\" class=\"dataframe\">\n",
       "  <thead>\n",
       "    <tr style=\"text-align: right;\">\n",
       "      <th></th>\n",
       "      <th>Importance</th>\n",
       "    </tr>\n",
       "    <tr>\n",
       "      <th>Feature</th>\n",
       "      <th></th>\n",
       "    </tr>\n",
       "  </thead>\n",
       "  <tbody>\n",
       "    <tr>\n",
       "      <td>Credit_His</td>\n",
       "      <td>0.190</td>\n",
       "    </tr>\n",
       "    <tr>\n",
       "      <td>Loan_per_income</td>\n",
       "      <td>0.140</td>\n",
       "    </tr>\n",
       "    <tr>\n",
       "      <td>Income_1</td>\n",
       "      <td>0.103</td>\n",
       "    </tr>\n",
       "    <tr>\n",
       "      <td>Loan_Amount</td>\n",
       "      <td>0.100</td>\n",
       "    </tr>\n",
       "    <tr>\n",
       "      <td>Dependents</td>\n",
       "      <td>0.088</td>\n",
       "    </tr>\n",
       "    <tr>\n",
       "      <td>Income_2</td>\n",
       "      <td>0.084</td>\n",
       "    </tr>\n",
       "    <tr>\n",
       "      <td>Prop_Area</td>\n",
       "      <td>0.082</td>\n",
       "    </tr>\n",
       "    <tr>\n",
       "      <td>CPL_Term</td>\n",
       "      <td>0.064</td>\n",
       "    </tr>\n",
       "    <tr>\n",
       "      <td>Sex</td>\n",
       "      <td>0.039</td>\n",
       "    </tr>\n",
       "    <tr>\n",
       "      <td>Marital_Status</td>\n",
       "      <td>0.039</td>\n",
       "    </tr>\n",
       "    <tr>\n",
       "      <td>Qual_var</td>\n",
       "      <td>0.039</td>\n",
       "    </tr>\n",
       "    <tr>\n",
       "      <td>SE</td>\n",
       "      <td>0.033</td>\n",
       "    </tr>\n",
       "  </tbody>\n",
       "</table>\n",
       "</div>"
      ],
      "text/plain": [
       "                 Importance\n",
       "Feature                    \n",
       "Credit_His            0.190\n",
       "Loan_per_income       0.140\n",
       "Income_1              0.103\n",
       "Loan_Amount           0.100\n",
       "Dependents            0.088\n",
       "Income_2              0.084\n",
       "Prop_Area             0.082\n",
       "CPL_Term              0.064\n",
       "Sex                   0.039\n",
       "Marital_Status        0.039\n",
       "Qual_var              0.039\n",
       "SE                    0.033"
      ]
     },
     "execution_count": 81,
     "metadata": {},
     "output_type": "execute_result"
    }
   ],
   "source": [
    "#Let's try to improve the accuracy \n",
    "importance = pd.DataFrame({'Feature':X_train.columns,'Importance':np.round(rf.feature_importances_,3)}).sort_values(by='Importance',ascending=False)\n",
    "importance = importance.set_index('Feature')\n",
    "importance.head(15)"
   ]
  },
  {
   "cell_type": "code",
   "execution_count": 82,
   "metadata": {},
   "outputs": [
    {
     "data": {
      "text/plain": [
       "<matplotlib.axes._subplots.AxesSubplot at 0x23cb425fdc8>"
      ]
     },
     "execution_count": 82,
     "metadata": {},
     "output_type": "execute_result"
    },
    {
     "data": {
      "image/png": "[encoded data removed]",
      "text/plain": [
       "<Figure size 432x288 with 1 Axes>"
      ]
     },
     "metadata": {
      "needs_background": "light"
     },
     "output_type": "display_data"
    }
   ],
   "source": [
    "#As we can see Credit_His contributes maximum importance towards predicting CPL_Status\n",
    "importance.plot.bar()"
   ]
  },
  {
   "cell_type": "code",
   "execution_count": null,
   "metadata": {},
   "outputs": [],
   "source": []
  }
 ],
 "metadata": {
  "kernelspec": {
   "display_name": "Python 3",
   "language": "python",
   "name": "python3"
  },
  "language_info": {
   "codemirror_mode": {
    "name": "ipython",
    "version": 3
   },
   "file_extension": ".py",
   "mimetype": "text/x-python",
   "name": "python",
   "nbconvert_exporter": "python",
   "pygments_lexer": "ipython3",
   "version": "3.7.4"
  }
 },
 "nbformat": 4,
 "nbformat_minor": 2
}
